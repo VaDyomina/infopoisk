{
 "cells": [
  {
   "cell_type": "markdown",
   "metadata": {},
   "source": [
    "## Лекция 2  BM5    "
   ]
  },
  {
   "cell_type": "markdown",
   "metadata": {},
   "source": [
    "## Функция ранжирования bm25"
   ]
  },
  {
   "cell_type": "markdown",
   "metadata": {},
   "source": [
    "Для обратного индекса есть общепринятая формула для ранжирования *Okapi best match 25* ([Okapi BM25](https://ru.wikipedia.org/wiki/Okapi_BM25)).    \n",
    "Пусть дан запрос $Q$, содержащий слова  $q_1, ... , q_n$, тогда функция BM25 даёт следующую оценку релевантности документа $D$ запросу $Q$:\n",
    "\n",
    "$$ score(D, Q) = \\sum_{i}^{n} \\text{IDF}(q_i)*\\frac{TF(q_i,D)*(k+1)}{TF(q_i,D)+k(1-b+b\\frac{l(d)}{avgdl})} $$ \n",
    "где   \n",
    ">$TF(q_i,D)$ - частота слова $q_i$ в документе $D$      \n",
    "$l(d)$ - длина документа (количество слов в нём)   \n",
    "*avgdl* — средняя длина документа в коллекции    \n",
    "$k$ и $b$ — свободные коэффициенты, обычно их выбирают как $k$=2.0 и $b$=0.75   \n",
    "$$$$\n",
    "$\\text{IDF}(q_i)$ - это модернизированная версия IDF: \n",
    "$$\\text{IDF}(q_i) = \\log\\frac{N-n(q_i)+0.5}{n(q_i)+0.5},$$\n",
    ">> где $N$ - общее количество документов в коллекции   \n",
    "$n(q_i)$ — количество документов, содержащих $q_i$"
   ]
  },
  {
   "cell_type": "code",
   "execution_count": 1,
   "metadata": {},
   "outputs": [],
   "source": [
    "import os\n",
    "import csv"
   ]
  },
  {
   "cell_type": "code",
   "execution_count": 2,
   "metadata": {},
   "outputs": [],
   "source": [
    "from nltk.tokenize import RegexpTokenizer\n",
    "from nltk.corpus import stopwords\n",
    "from pymystem3 import Mystem"
   ]
  },
  {
   "cell_type": "code",
   "execution_count": 3,
   "metadata": {},
   "outputs": [
    {
     "name": "stderr",
     "output_type": "stream",
     "text": [
      "[nltk_data] Downloading package stopwords to\n",
      "[nltk_data]     /Users/Ya.Klop/nltk_data...\n",
      "[nltk_data]   Package stopwords is already up-to-date!\n"
     ]
    },
    {
     "data": {
      "text/plain": [
       "True"
      ]
     },
     "execution_count": 3,
     "metadata": {},
     "output_type": "execute_result"
    }
   ],
   "source": [
    "import nltk\n",
    "nltk.download('stopwords')"
   ]
  },
  {
   "cell_type": "code",
   "execution_count": 4,
   "metadata": {},
   "outputs": [],
   "source": [
    "mystem = Mystem()\n",
    "stop_words = stopwords.words('russian')\n",
    "tokenizer = RegexpTokenizer(r'[а-яА-ЯёЁ]+')"
   ]
  },
  {
   "cell_type": "code",
   "execution_count": 5,
   "metadata": {},
   "outputs": [],
   "source": [
    "def preprocess_text(text):\n",
    "    tokenized = tokenizer.tokenize(text)\n",
    "    lemmatized = [mystem.lemmatize(token)[0] for token in tokenized]\n",
    "    without_stopwords = [word for word in lemmatized if word not in stop_words]\n",
    "\n",
    "    return \" \".join(without_stopwords)"
   ]
  },
  {
   "cell_type": "code",
   "execution_count": 6,
   "metadata": {},
   "outputs": [
    {
     "name": "stderr",
     "output_type": "stream",
     "text": [
      "  2%|▏         | 9987/404289 [00:38<32:20, 203.14it/s] "
     ]
    },
    {
     "name": "stdout",
     "output_type": "stream",
     "text": [
      "мочь увеличивать скорость интернет соединение использовать\n",
      "повышать скорость интернет путем взлом\n",
      "0\n"
     ]
    }
   ],
   "source": [
    "from tqdm import tqdm\n",
    "\n",
    "queries = []\n",
    "documents = []\n",
    "original_documents = []\n",
    "is_duplicates = []\n",
    "\n",
    "with open(os.path.abspath('quora_question_pairs_rus.csv'), 'r', encoding='utf-8') as file:\n",
    "    table = csv.reader(file)\n",
    "\n",
    "    for row in tqdm(list(table)):\n",
    "        if row[0] == '':\n",
    "            continue\n",
    "        # TODO: убрать\n",
    "        if row[0] == '10000':\n",
    "            break\n",
    "        queries.append(preprocess_text(row[1]))\n",
    "        documents.append(preprocess_text(row[2]))\n",
    "        original_documents.append(row[2])\n",
    "        is_duplicates.append(row[3])\n",
    "\n",
    "print(queries[1], documents[1], is_duplicates[1], sep='\\n')"
   ]
  },
  {
   "cell_type": "markdown",
   "metadata": {},
   "source": [
    "### __Задача 1__:    \n",
    "Напишите два поисковика на *BM25*. Один через подсчет метрики по формуле для каждой пары слово-документ, второй через умножение матрицы на вектор. \n",
    "\n",
    "Сравните время работы поиска на 100к запросах. В качестве корпуса возьмем \n",
    "[Quora question pairs](https://www.kaggle.com/loopdigga/quora-question-pairs-russian)."
   ]
  },
  {
   "cell_type": "code",
   "execution_count": 9,
   "metadata": {},
   "outputs": [],
   "source": [
    "from math import log\n",
    "from statistics import mean\n",
    "\n",
    "import pandas as pd"
   ]
  },
  {
   "cell_type": "code",
   "execution_count": 10,
   "metadata": {},
   "outputs": [],
   "source": [
    "default_k = 2.0\n",
    "default_b = 0.75\n",
    "\n",
    "def bm25(inverted_index, query, num=10, k=default_k, b=default_b) -> float:\n",
    "    normalized_query = preprocess_text(query).split()\n",
    "\n",
    "    N = inverted_index.shape[1]\n",
    "    avgdl = mean([len(document) for document in documents])\n",
    "\n",
    "    result = []\n",
    "\n",
    "    for word in normalized_query:\n",
    "        nq = inverted_index.sum(axis=1)[word] if word in inverted_index.transpose() else 0\n",
    "\n",
    "        for index, document in enumerate(documents):\n",
    "            ld = len(document.split())\n",
    "            tf = inverted_index[document][word] if word in inverted_index[document] else 0\n",
    "            \n",
    "            idf = log((N - nq + 0.5) / (nq + 0.5))\n",
    "            score = idf * (tf * (k + 1)) / (tf + k * (1 - b + b * (ld / avgdl)))\n",
    "            \n",
    "            if score != 0:\n",
    "                result.append((score, original_documents[index]))\n",
    "\n",
    "    if (len(result) != 0):\n",
    "        return sorted(result, key=lambda score_doc: score_doc[0], reverse=True)[:10]\n",
    "    else:\n",
    "        return \"not found\""
   ]
  },
  {
   "cell_type": "code",
   "execution_count": 11,
   "metadata": {},
   "outputs": [
    {
     "data": {
      "text/html": [
       "<div>\n",
       "<style scoped>\n",
       "    .dataframe tbody tr th:only-of-type {\n",
       "        vertical-align: middle;\n",
       "    }\n",
       "\n",
       "    .dataframe tbody tr th {\n",
       "        vertical-align: top;\n",
       "    }\n",
       "\n",
       "    .dataframe thead th {\n",
       "        text-align: right;\n",
       "    }\n",
       "</style>\n",
       "<table border=\"1\" class=\"dataframe\">\n",
       "  <thead>\n",
       "    <tr style=\"text-align: right;\">\n",
       "      <th></th>\n",
       "      <th>происходить правительство индия украсть кохинор кох ноор алмаз назад</th>\n",
       "      <th>повышать скорость интернет путем взлом</th>\n",
       "      <th>находить остаток математика математика разделять</th>\n",
       "      <th>рыба выживать соленый вода</th>\n",
       "      <th>тройной луна козерог восхождение козерог это говорить обо</th>\n",
       "      <th>делать ребенок активный далекий телефонный видеоигр</th>\n",
       "      <th>должный делать великий геолог</th>\n",
       "      <th>использовать вместо</th>\n",
       "      <th>мочь взламывать бесплатный интернет</th>\n",
       "      <th>некоторые технический специалист мочь рассказывать долговечность надежность ноутбук компонент</th>\n",
       "      <th>...</th>\n",
       "      <th>каков различный тип раскладка</th>\n",
       "      <th>мировой война либо иметь место</th>\n",
       "      <th>думать мусульманин свинья</th>\n",
       "      <th>это летать первый класс</th>\n",
       "      <th>каков стоимость жизнь европа сравнение индийский город ченнай бангалор</th>\n",
       "      <th>каков различие прослушивание развлекательный компания также отличаться свой система прослушивание</th>\n",
       "      <th>каков шаг решение это уравнение</th>\n",
       "      <th>насколько хороший изучение</th>\n",
       "      <th>требоваться рекомендовать учебник курс органический химия бакалавриат</th>\n",
       "      <th>безопасно женщина путешествовать одиночка япония</th>\n",
       "    </tr>\n",
       "  </thead>\n",
       "  <tbody>\n",
       "    <tr>\n",
       "      <th>аамми</th>\n",
       "      <td>0</td>\n",
       "      <td>0</td>\n",
       "      <td>0</td>\n",
       "      <td>0</td>\n",
       "      <td>0</td>\n",
       "      <td>0</td>\n",
       "      <td>0</td>\n",
       "      <td>0</td>\n",
       "      <td>0</td>\n",
       "      <td>0</td>\n",
       "      <td>...</td>\n",
       "      <td>0</td>\n",
       "      <td>0</td>\n",
       "      <td>0</td>\n",
       "      <td>0</td>\n",
       "      <td>0</td>\n",
       "      <td>0</td>\n",
       "      <td>0</td>\n",
       "      <td>0</td>\n",
       "      <td>0</td>\n",
       "      <td>0</td>\n",
       "    </tr>\n",
       "    <tr>\n",
       "      <th>абап</th>\n",
       "      <td>0</td>\n",
       "      <td>0</td>\n",
       "      <td>0</td>\n",
       "      <td>0</td>\n",
       "      <td>0</td>\n",
       "      <td>0</td>\n",
       "      <td>0</td>\n",
       "      <td>0</td>\n",
       "      <td>0</td>\n",
       "      <td>0</td>\n",
       "      <td>...</td>\n",
       "      <td>0</td>\n",
       "      <td>0</td>\n",
       "      <td>0</td>\n",
       "      <td>0</td>\n",
       "      <td>0</td>\n",
       "      <td>0</td>\n",
       "      <td>0</td>\n",
       "      <td>0</td>\n",
       "      <td>0</td>\n",
       "      <td>0</td>\n",
       "    </tr>\n",
       "    <tr>\n",
       "      <th>абдоминальный</th>\n",
       "      <td>0</td>\n",
       "      <td>0</td>\n",
       "      <td>0</td>\n",
       "      <td>0</td>\n",
       "      <td>0</td>\n",
       "      <td>0</td>\n",
       "      <td>0</td>\n",
       "      <td>0</td>\n",
       "      <td>0</td>\n",
       "      <td>0</td>\n",
       "      <td>...</td>\n",
       "      <td>0</td>\n",
       "      <td>0</td>\n",
       "      <td>0</td>\n",
       "      <td>0</td>\n",
       "      <td>0</td>\n",
       "      <td>0</td>\n",
       "      <td>0</td>\n",
       "      <td>0</td>\n",
       "      <td>0</td>\n",
       "      <td>0</td>\n",
       "    </tr>\n",
       "    <tr>\n",
       "      <th>аберденшир</th>\n",
       "      <td>0</td>\n",
       "      <td>0</td>\n",
       "      <td>0</td>\n",
       "      <td>0</td>\n",
       "      <td>0</td>\n",
       "      <td>0</td>\n",
       "      <td>0</td>\n",
       "      <td>0</td>\n",
       "      <td>0</td>\n",
       "      <td>0</td>\n",
       "      <td>...</td>\n",
       "      <td>0</td>\n",
       "      <td>0</td>\n",
       "      <td>0</td>\n",
       "      <td>0</td>\n",
       "      <td>0</td>\n",
       "      <td>0</td>\n",
       "      <td>0</td>\n",
       "      <td>0</td>\n",
       "      <td>0</td>\n",
       "      <td>0</td>\n",
       "    </tr>\n",
       "    <tr>\n",
       "      <th>абзац</th>\n",
       "      <td>0</td>\n",
       "      <td>0</td>\n",
       "      <td>0</td>\n",
       "      <td>0</td>\n",
       "      <td>0</td>\n",
       "      <td>0</td>\n",
       "      <td>0</td>\n",
       "      <td>0</td>\n",
       "      <td>0</td>\n",
       "      <td>0</td>\n",
       "      <td>...</td>\n",
       "      <td>0</td>\n",
       "      <td>0</td>\n",
       "      <td>0</td>\n",
       "      <td>0</td>\n",
       "      <td>0</td>\n",
       "      <td>0</td>\n",
       "      <td>0</td>\n",
       "      <td>0</td>\n",
       "      <td>0</td>\n",
       "      <td>0</td>\n",
       "    </tr>\n",
       "  </tbody>\n",
       "</table>\n",
       "<p>5 rows × 10000 columns</p>\n",
       "</div>"
      ],
      "text/plain": [
       "               происходить правительство индия украсть кохинор кох ноор алмаз назад  \\\n",
       "аамми                                                          0                      \n",
       "абап                                                           0                      \n",
       "абдоминальный                                                  0                      \n",
       "аберденшир                                                     0                      \n",
       "абзац                                                          0                      \n",
       "\n",
       "               повышать скорость интернет путем взлом  \\\n",
       "аамми                                               0   \n",
       "абап                                                0   \n",
       "абдоминальный                                       0   \n",
       "аберденшир                                          0   \n",
       "абзац                                               0   \n",
       "\n",
       "               находить остаток математика математика разделять  \\\n",
       "аамми                                                         0   \n",
       "абап                                                          0   \n",
       "абдоминальный                                                 0   \n",
       "аберденшир                                                    0   \n",
       "абзац                                                         0   \n",
       "\n",
       "               рыба выживать соленый вода  \\\n",
       "аамми                                   0   \n",
       "абап                                    0   \n",
       "абдоминальный                           0   \n",
       "аберденшир                              0   \n",
       "абзац                                   0   \n",
       "\n",
       "               тройной луна козерог восхождение козерог это говорить обо  \\\n",
       "аамми                                                          0           \n",
       "абап                                                           0           \n",
       "абдоминальный                                                  0           \n",
       "аберденшир                                                     0           \n",
       "абзац                                                          0           \n",
       "\n",
       "               делать ребенок активный далекий телефонный видеоигр  \\\n",
       "аамми                                                          0     \n",
       "абап                                                           0     \n",
       "абдоминальный                                                  0     \n",
       "аберденшир                                                     0     \n",
       "абзац                                                          0     \n",
       "\n",
       "               должный делать великий геолог  использовать вместо  \\\n",
       "аамми                                      0                    0   \n",
       "абап                                       0                    0   \n",
       "абдоминальный                              0                    0   \n",
       "аберденшир                                 0                    0   \n",
       "абзац                                      0                    0   \n",
       "\n",
       "               мочь взламывать бесплатный интернет  \\\n",
       "аамми                                            0   \n",
       "абап                                             0   \n",
       "абдоминальный                                    0   \n",
       "аберденшир                                       0   \n",
       "абзац                                            0   \n",
       "\n",
       "               некоторые технический специалист мочь рассказывать долговечность надежность ноутбук компонент  \\\n",
       "аамми                                                          0                                               \n",
       "абап                                                           0                                               \n",
       "абдоминальный                                                  0                                               \n",
       "аберденшир                                                     0                                               \n",
       "абзац                                                          0                                               \n",
       "\n",
       "                                     ...                         \\\n",
       "аамми                                ...                          \n",
       "абап                                 ...                          \n",
       "абдоминальный                        ...                          \n",
       "аберденшир                           ...                          \n",
       "абзац                                ...                          \n",
       "\n",
       "               каков различный тип раскладка  мировой война либо иметь место  \\\n",
       "аамми                                      0                               0   \n",
       "абап                                       0                               0   \n",
       "абдоминальный                              0                               0   \n",
       "аберденшир                                 0                               0   \n",
       "абзац                                      0                               0   \n",
       "\n",
       "               думать мусульманин свинья  это летать первый класс  \\\n",
       "аамми                                  0                        0   \n",
       "абап                                   0                        0   \n",
       "абдоминальный                          0                        0   \n",
       "аберденшир                             0                        0   \n",
       "абзац                                  0                        0   \n",
       "\n",
       "               каков стоимость жизнь европа сравнение индийский город ченнай бангалор  \\\n",
       "аамми                                                          0                        \n",
       "абап                                                           0                        \n",
       "абдоминальный                                                  0                        \n",
       "аберденшир                                                     0                        \n",
       "абзац                                                          0                        \n",
       "\n",
       "               каков различие прослушивание развлекательный компания также отличаться свой система прослушивание  \\\n",
       "аамми                                                          0                                                   \n",
       "абап                                                           0                                                   \n",
       "абдоминальный                                                  0                                                   \n",
       "аберденшир                                                     0                                                   \n",
       "абзац                                                          0                                                   \n",
       "\n",
       "               каков шаг решение это уравнение  насколько хороший изучение  \\\n",
       "аамми                                        0                           0   \n",
       "абап                                         0                           0   \n",
       "абдоминальный                                0                           0   \n",
       "аберденшир                                   0                           0   \n",
       "абзац                                        0                           0   \n",
       "\n",
       "               требоваться рекомендовать учебник курс органический химия бакалавриат  \\\n",
       "аамми                                                          0                       \n",
       "абап                                                           0                       \n",
       "абдоминальный                                                  0                       \n",
       "аберденшир                                                     0                       \n",
       "абзац                                                          0                       \n",
       "\n",
       "               безопасно женщина путешествовать одиночка япония  \n",
       "аамми                                                         0  \n",
       "абап                                                          0  \n",
       "абдоминальный                                                 0  \n",
       "аберденшир                                                    0  \n",
       "абзац                                                         0  \n",
       "\n",
       "[5 rows x 10000 columns]"
      ]
     },
     "execution_count": 11,
     "metadata": {},
     "output_type": "execute_result"
    }
   ],
   "source": [
    "from sklearn.feature_extraction.text import CountVectorizer\n",
    "\n",
    "cv = CountVectorizer()\n",
    "cv.fit(queries)\n",
    "\n",
    "inverted_index = pd.DataFrame(\n",
    "        cv.transform(queries).A,\n",
    "        columns=cv.get_feature_names(),\n",
    "        index=documents\n",
    "    ).transpose()\n",
    "\n",
    "inverted_index.head()"
   ]
  },
  {
   "cell_type": "code",
   "execution_count": 12,
   "metadata": {},
   "outputs": [
    {
     "data": {
      "text/plain": [
       "[(12.959955124491186, 'почему в Японии импортируется соленая вода'),\n",
       " (12.70745534612108, 'почему соленые таффи конфеты импортированы в Китае'),\n",
       " (12.70745534612108, 'почему тафтинка из соленой воды импортируется в италию'),\n",
       " (12.70745534612108,\n",
       "  'почему тафтинги из соленой воды импортируются в португальском'),\n",
       " (12.114699217416875,\n",
       "  'как распределяется водопроводная вода и система удаления сточных вод в Мумбаи'),\n",
       " (12.005729745064446,\n",
       "  'почему соленая вода таффи конфеты, импортированные или неизвестные за пределами США'),\n",
       " (10.471608489454544, 'почему вода синяя'),\n",
       " (10.471608489454544, 'как производится электричество от воды'),\n",
       " (10.471608489454544, 'как мне получить работу в студии'),\n",
       " (10.471608489454544, 'вода практически несжимаема')]"
      ]
     },
     "execution_count": 12,
     "metadata": {},
     "output_type": "execute_result"
    }
   ],
   "source": [
    "bm25(inverted_index, 'солёная вода')"
   ]
  },
  {
   "cell_type": "markdown",
   "metadata": {},
   "source": [
    "### __Задача 2__:    \n",
    "\n"
   ]
  },
  {
   "cell_type": "markdown",
   "metadata": {},
   "source": [
    "Выведите 10 первых результатов и их близость по метрике BM25 по запросу **рождественские каникулы** на нашем корпусе  Quora question pairs. "
   ]
  },
  {
   "cell_type": "code",
   "execution_count": 13,
   "metadata": {},
   "outputs": [
    {
     "data": {
      "text/plain": [
       "[(16.181646119885823, 'каков ваш рождественский список'),\n",
       " (15.242658967659366, 'Какое лучшее место для отдыха на 10 дней'),\n",
       " (14.64871123032008,\n",
       "  'которые являются лучшими местами в гоа, чтобы посетить их')]"
      ]
     },
     "execution_count": 13,
     "metadata": {},
     "output_type": "execute_result"
    }
   ],
   "source": [
    "bm25(inverted_index, 'рождественские каникулы')"
   ]
  },
  {
   "cell_type": "markdown",
   "metadata": {},
   "source": [
    "### __Задача 3__:    \n",
    "\n",
    "Посчитайте точность поиска при \n",
    "1. BM25, b=0.75 \n",
    "2. BM15, b=0 \n",
    "3. BM11, b=1"
   ]
  },
  {
   "cell_type": "code",
   "execution_count": 16,
   "metadata": {},
   "outputs": [
    {
     "data": {
      "text/plain": [
       "[(14.05425626750734, 'когда самое время научить своих детей плавать'),\n",
       " (14.05425626750734,\n",
       "  'это грамматически некорректно, чтобы сказать, как она побежала, а не как она бежала'),\n",
       " (13.278158208683081,\n",
       "  'когда мертвое тело находится в реке, сколько времени требуется, чтобы оно плавало')]"
      ]
     },
     "execution_count": 16,
     "metadata": {},
     "output_type": "execute_result"
    }
   ],
   "source": [
    "bm25(inverted_index, 'плаваем')"
   ]
  },
  {
   "cell_type": "code",
   "execution_count": 17,
   "metadata": {},
   "outputs": [
    {
     "data": {
      "text/plain": [
       "[(7.957327372225605,\n",
       "  'когда мертвое тело находится в реке, сколько времени требуется, чтобы оно плавало'),\n",
       " (7.957327372225605, 'когда самое время научить своих детей плавать'),\n",
       " (7.957327372225605,\n",
       "  'это грамматически некорректно, чтобы сказать, как она побежала, а не как она бежала')]"
      ]
     },
     "execution_count": 17,
     "metadata": {},
     "output_type": "execute_result"
    }
   ],
   "source": [
    "bm25(inverted_index, 'плаваем', b=0)"
   ]
  },
  {
   "cell_type": "code",
   "execution_count": 18,
   "metadata": {},
   "outputs": [
    {
     "data": {
      "text/plain": [
       "[(19.137504125565663, 'когда самое время научить своих детей плавать'),\n",
       " (19.137504125565663,\n",
       "  'это грамматически некорректно, чтобы сказать, как она побежала, а не как она бежала'),\n",
       " (17.28489791112948,\n",
       "  'когда мертвое тело находится в реке, сколько времени требуется, чтобы оно плавало')]"
      ]
     },
     "execution_count": 18,
     "metadata": {},
     "output_type": "execute_result"
    }
   ],
   "source": [
    "bm25(inverted_index, 'плаваем', b=1.01)"
   ]
  }
 ],
 "metadata": {
  "kernelspec": {
   "display_name": "Python 3",
   "language": "python",
   "name": "python3"
  },
  "language_info": {
   "codemirror_mode": {
    "name": "ipython",
    "version": 3
   },
   "file_extension": ".py",
   "mimetype": "text/x-python",
   "name": "python",
   "nbconvert_exporter": "python",
   "pygments_lexer": "ipython3",
   "version": "3.7.0"
  }
 },
 "nbformat": 4,
 "nbformat_minor": 2
}
