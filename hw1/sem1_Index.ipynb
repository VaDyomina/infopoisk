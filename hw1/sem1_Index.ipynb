{
 "cells": [
  {
   "cell_type": "markdown",
   "metadata": {},
   "source": [
    "## Семинар 1 Индекс\n",
    "\n",
    "## Intro"
   ]
  },
  {
   "cell_type": "markdown",
   "metadata": {},
   "source": [
    "### работа с файлами и папками"
   ]
  },
  {
   "cell_type": "code",
   "execution_count": 1,
   "metadata": {},
   "outputs": [],
   "source": [
    "import os\n",
    "\n",
    "curr_dir = os.getcwd()\n",
    "filepath = os.path.join(curr_dir, 'test.txt')"
   ]
  },
  {
   "cell_type": "markdown",
   "metadata": {},
   "source": [
    "### os.path  \n",
    "путь до файла"
   ]
  },
  {
   "cell_type": "code",
   "execution_count": 2,
   "metadata": {},
   "outputs": [
    {
     "name": "stdout",
     "output_type": "stream",
     "text": [
      "/Users/Ya.Klop/Desktop/Study/proga/infosearch/1 Index/test.txt\n",
      "test.txt\n",
      "True\n"
     ]
    }
   ],
   "source": [
    "# возвращает полный путь до папки/файла по имени файла / папки\n",
    "print(os.path.abspath(filepath))\n",
    "\n",
    "\n",
    "# возвращает имя файла / папки по полному ти до него\n",
    "print(os.path.basename(filepath))\n",
    "\n",
    "\n",
    "# проверить существование директории - True / False\n",
    "print(os.path.exists(curr_dir))"
   ]
  },
  {
   "cell_type": "markdown",
   "metadata": {},
   "source": [
    "### os.listdir  \n",
    "возвращает список файлов в данной директории"
   ]
  },
  {
   "cell_type": "code",
   "execution_count": 3,
   "metadata": {},
   "outputs": [
    {
     "data": {
      "text/plain": [
       "['lec1_Index.pdf',\n",
       " '.DS_Store',\n",
       " 'sem1_Index.ipynb',\n",
       " 'test.txt',\n",
       " '.ipynb_checkpoints',\n",
       " 'friends']"
      ]
     },
     "execution_count": 3,
     "metadata": {},
     "output_type": "execute_result"
    }
   ],
   "source": [
    "os.listdir(curr_dir)"
   ]
  },
  {
   "cell_type": "markdown",
   "metadata": {},
   "source": [
    "При обходе файлов не забывайте исключать системные директории, такие как .DS_Store"
   ]
  },
  {
   "cell_type": "markdown",
   "metadata": {},
   "source": [
    "### os.walk\n",
    "root - начальная директория  \n",
    "dirs - список поддиректорий (папок)   \n",
    "files - список файлов в этих поддиректориях  "
   ]
  },
  {
   "cell_type": "code",
   "execution_count": 4,
   "metadata": {},
   "outputs": [
    {
     "name": "stdout",
     "output_type": "stream",
     "text": [
      "/Users/Ya.Klop/Desktop/Study/proga/infosearch/1 Index/lec1_Index.pdf\n",
      "/Users/Ya.Klop/Desktop/Study/proga/infosearch/1 Index/.DS_Store\n",
      "/Users/Ya.Klop/Desktop/Study/proga/infosearch/1 Index/sem1_Index.ipynb\n",
      "/Users/Ya.Klop/Desktop/Study/proga/infosearch/1 Index/test.txt\n",
      "/Users/Ya.Klop/Desktop/Study/proga/infosearch/1 Index/.ipynb_checkpoints/sem1_Index-checkpoint.ipynb\n",
      "/Users/Ya.Klop/Desktop/Study/proga/infosearch/1 Index/friends/.DS_Store\n",
      "/Users/Ya.Klop/Desktop/Study/proga/infosearch/1 Index/friends/Friends - season 2/Friends - 2x08 - The One With The List.ru.txt\n",
      "/Users/Ya.Klop/Desktop/Study/proga/infosearch/1 Index/friends/Friends - season 2/Friends - 2x20 - The One Where Old Yeller Dies.NurlanB.ru.txt\n",
      "/Users/Ya.Klop/Desktop/Study/proga/infosearch/1 Index/friends/Friends - season 2/Friends - 2x24 - The One With Barry And Mindy's Wedding.ru.txt\n",
      "/Users/Ya.Klop/Desktop/Study/proga/infosearch/1 Index/friends/Friends - season 2/Friends - 2x16 - The One Where Joey Moves Out.ru.txt\n",
      "/Users/Ya.Klop/Desktop/Study/proga/infosearch/1 Index/friends/Friends - season 2/Friends - 2x07 - The One Where Ross Finds Out.ru.txt\n",
      "/Users/Ya.Klop/Desktop/Study/proga/infosearch/1 Index/friends/Friends - season 2/Friends - 2x17 - The One Where Eddie Moves In.ru.txt\n",
      "/Users/Ya.Klop/Desktop/Study/proga/infosearch/1 Index/friends/Friends - season 2/Friends - 2x04 - The One With Phoebe's Husband.ru.txt\n",
      "/Users/Ya.Klop/Desktop/Study/proga/infosearch/1 Index/friends/Friends - season 2/Friends - 2x15 - The One Where Ross And Rachel...You Know.ru.txt\n",
      "/Users/Ya.Klop/Desktop/Study/proga/infosearch/1 Index/friends/Friends - season 2/Friends - 2x01 - The One With Ross's New Girlfriend.DVDRip.ru.txt\n",
      "/Users/Ya.Klop/Desktop/Study/proga/infosearch/1 Index/friends/Friends - season 2/Friends - 2x21 - The One With The Bullies.ru.txt\n",
      "/Users/Ya.Klop/Desktop/Study/proga/infosearch/1 Index/friends/Friends - season 2/Friends - 2x09 - The One With Phoebe's Dad.ru.txt\n",
      "/Users/Ya.Klop/Desktop/Study/proga/infosearch/1 Index/friends/Friends - season 2/Friends - 2x03 - The One Where Heckles Dies.ru.txt\n",
      "/Users/Ya.Klop/Desktop/Study/proga/infosearch/1 Index/friends/Friends - season 2/Friends - 2x19 - The One Where Eddie Won't Go.ru.txt\n",
      "/Users/Ya.Klop/Desktop/Study/proga/infosearch/1 Index/friends/Friends - season 2/Friends - 2x11 - The One With The Lesbian Wedding.ru.txt\n",
      "/Users/Ya.Klop/Desktop/Study/proga/infosearch/1 Index/friends/Friends - season 2/Friends - 2x10 - The One With Russ.ru.txt\n",
      "/Users/Ya.Klop/Desktop/Study/proga/infosearch/1 Index/friends/Friends - season 2/Friends - 2x01 - The One With Ross's New Girlfriend.ru.txt\n",
      "/Users/Ya.Klop/Desktop/Study/proga/infosearch/1 Index/friends/Friends - season 2/Friends - 2x13 - The One After The Super Bowl (2).ru.txt\n",
      "/Users/Ya.Klop/Desktop/Study/proga/infosearch/1 Index/friends/Friends - season 2/Friends - 2x23 - The One With The Chicken Pox.ru.txt\n",
      "/Users/Ya.Klop/Desktop/Study/proga/infosearch/1 Index/friends/Friends - season 2/Friends - 2x05 - The One With Five Steaks And An Eggplant.ru.txt\n",
      "/Users/Ya.Klop/Desktop/Study/proga/infosearch/1 Index/friends/Friends - season 2/Friends - 2x02 - The One With The Breast Milk.ru.txt\n",
      "/Users/Ya.Klop/Desktop/Study/proga/infosearch/1 Index/friends/Friends - season 2/Friends - 2x06 - The One With The Baby On The Bus.ru.txt\n",
      "/Users/Ya.Klop/Desktop/Study/proga/infosearch/1 Index/friends/Friends - season 2/Friends - 2x12 - The One After The Super Bowl (1).ru.txt\n",
      "/Users/Ya.Klop/Desktop/Study/proga/infosearch/1 Index/friends/Friends - season 2/Friends - 2x14 - The One With The Prom Video.ru.txt\n",
      "/Users/Ya.Klop/Desktop/Study/proga/infosearch/1 Index/friends/Friends - season 2/Friends - 2x22 - The One With The Two Parties.ru.txt\n",
      "/Users/Ya.Klop/Desktop/Study/proga/infosearch/1 Index/friends/Friends - season 2/Friends - 2x18 - The One Where Dr. Ramoray Dies.ru.txt\n",
      "/Users/Ya.Klop/Desktop/Study/proga/infosearch/1 Index/friends/Friends - season 5/Friends - 5x05 - The One With The Kips.ru.txt\n",
      "/Users/Ya.Klop/Desktop/Study/proga/infosearch/1 Index/friends/Friends - season 5/Friends - 5x09 - The One With Ross's Sandwich.ru.txt\n",
      "/Users/Ya.Klop/Desktop/Study/proga/infosearch/1 Index/friends/Friends - season 5/Friends - 5x23-24 - The One In Vegas (1).ru.txt\n",
      "/Users/Ya.Klop/Desktop/Study/proga/infosearch/1 Index/friends/Friends - season 5/Friends - 5x06 - The One With The Yeti.ru.txt\n",
      "/Users/Ya.Klop/Desktop/Study/proga/infosearch/1 Index/friends/Friends - season 5/Friends - 5x20 - The One With The Ride Along.ru.txt\n",
      "/Users/Ya.Klop/Desktop/Study/proga/infosearch/1 Index/friends/Friends - season 5/Friends - 5x10 - The One With The Inappropriate Sister.ru.txt\n",
      "/Users/Ya.Klop/Desktop/Study/proga/infosearch/1 Index/friends/Friends - season 5/Friends - 5x11 - The One With All The Resolutions.ru.txt\n",
      "/Users/Ya.Klop/Desktop/Study/proga/infosearch/1 Index/friends/Friends - season 5/Friends - 5x18 - The One Where Rachel Smokes.ru.txt\n",
      "/Users/Ya.Klop/Desktop/Study/proga/infosearch/1 Index/friends/Friends - season 5/Friends - 5x24-25 - The One In Vegas (2).ru.txt\n",
      "/Users/Ya.Klop/Desktop/Study/proga/infosearch/1 Index/friends/Friends - season 5/Friends - 5x08 - The One With The Thanksgiving Flashbacks.ru.txt\n",
      "/Users/Ya.Klop/Desktop/Study/proga/infosearch/1 Index/friends/Friends - season 5/Friends - 5x22 - The One With Joey's Big Break.ru.txt\n",
      "/Users/Ya.Klop/Desktop/Study/proga/infosearch/1 Index/friends/Friends - season 5/Friends - 5x07 - The One Where Ross Moves In.ru.txt\n",
      "/Users/Ya.Klop/Desktop/Study/proga/infosearch/1 Index/friends/Friends - season 5/Friends - 5x17 - The One With Rachel's Inadvertent Kiss.ru.txt\n",
      "/Users/Ya.Klop/Desktop/Study/proga/infosearch/1 Index/friends/Friends - season 5/Friends - 5x16 - The One With The Cop.ru.txt\n",
      "/Users/Ya.Klop/Desktop/Study/proga/infosearch/1 Index/friends/Friends - season 5/Friends - 5x14 - The One Where Everybody Finds Out.ru.txt\n",
      "/Users/Ya.Klop/Desktop/Study/proga/infosearch/1 Index/friends/Friends - season 5/Friends - 5x13 - The One With Joey's Bag.ru.txt\n",
      "/Users/Ya.Klop/Desktop/Study/proga/infosearch/1 Index/friends/Friends - season 5/Friends - 5x04 - The One Where Phoebe Hates PBS.ru.txt\n",
      "/Users/Ya.Klop/Desktop/Study/proga/infosearch/1 Index/friends/Friends - season 5/Friends - 5x03 - The One Hundredth.ru.txt\n",
      "/Users/Ya.Klop/Desktop/Study/proga/infosearch/1 Index/friends/Friends - season 5/Friends - 5x12 - The One With Chandler's Work Laugh.ru.txt\n",
      "/Users/Ya.Klop/Desktop/Study/proga/infosearch/1 Index/friends/Friends - season 5/Friends - 5x15 - The One With The Girl Who Hits Joey.ru.txt\n",
      "/Users/Ya.Klop/Desktop/Study/proga/infosearch/1 Index/friends/Friends - season 5/Friends - 5x02 - The One With All The Kissing.ru.txt\n",
      "/Users/Ya.Klop/Desktop/Study/proga/infosearch/1 Index/friends/Friends - season 5/Friends - 5x01 - The One After Ross Says Rachel.ru.txt\n",
      "/Users/Ya.Klop/Desktop/Study/proga/infosearch/1 Index/friends/Friends - season 5/Friends - 5x21 - The One With The Ball.ru.txt\n",
      "/Users/Ya.Klop/Desktop/Study/proga/infosearch/1 Index/friends/Friends - season 5/Friends - 5x19 - The One Where Ross Can't Flirt.ru.txt\n",
      "/Users/Ya.Klop/Desktop/Study/proga/infosearch/1 Index/friends/Friends - season 4/Friends - 4x24-25 - The One With Ross's Wedding (2).ru.txt\n",
      "/Users/Ya.Klop/Desktop/Study/proga/infosearch/1 Index/friends/Friends - season 4/Friends - 4x23-24 - The One With Ross's Wedding (1).ru.txt\n",
      "/Users/Ya.Klop/Desktop/Study/proga/infosearch/1 Index/friends/Friends - season 4/Friends - 4x13 - The One With Rachel's Crush.ru.txt\n",
      "/Users/Ya.Klop/Desktop/Study/proga/infosearch/1 Index/friends/Friends - season 4/Friends - 4x07 - The One Where Chandler Crosses The Line.ru.txt\n",
      "/Users/Ya.Klop/Desktop/Study/proga/infosearch/1 Index/friends/Friends - season 4/Friends - 4x22 - The One With The Worst Best Man Ever.ru.txt\n",
      "/Users/Ya.Klop/Desktop/Study/proga/infosearch/1 Index/friends/Friends - season 4/Friends - 4x20 - The One With The Wedding Dresses.ru.txt\n",
      "/Users/Ya.Klop/Desktop/Study/proga/infosearch/1 Index/friends/Friends - season 4/Friends - 4x12 - The One With The Embryos.ru.txt\n",
      "/Users/Ya.Klop/Desktop/Study/proga/infosearch/1 Index/friends/Friends - season 4/Friends - 4x21 - The One With The Invitations.ru.txt\n",
      "/Users/Ya.Klop/Desktop/Study/proga/infosearch/1 Index/friends/Friends - season 4/Friends - 4x19 - The One With All The Haste.ru.txt\n",
      "/Users/Ya.Klop/Desktop/Study/proga/infosearch/1 Index/friends/Friends - season 4/Friends - 4x17 - The One With The Free Porn.ru.txt\n",
      "/Users/Ya.Klop/Desktop/Study/proga/infosearch/1 Index/friends/Friends - season 4/Friends - 4x11 - The One With Phoebe's Uterus.ru.txt\n",
      "/Users/Ya.Klop/Desktop/Study/proga/infosearch/1 Index/friends/Friends - season 4/Friends - 4x05 - The One With Joey's New Girlfriend.ru.txt\n",
      "/Users/Ya.Klop/Desktop/Study/proga/infosearch/1 Index/friends/Friends - season 4/Friends - 4x15 - The One With All The Rugby.ru.txt\n",
      "/Users/Ya.Klop/Desktop/Study/proga/infosearch/1 Index/friends/Friends - season 4/Friends - 4x14 - The One With Joey's Dirty Day.ru.txt\n",
      "/Users/Ya.Klop/Desktop/Study/proga/infosearch/1 Index/friends/Friends - season 4/Friends - 4x01 - The One With The Jellyfish.ru.txt\n",
      "/Users/Ya.Klop/Desktop/Study/proga/infosearch/1 Index/friends/Friends - season 4/Friends - 4x02 - The One With The Cat.ru.txt\n",
      "/Users/Ya.Klop/Desktop/Study/proga/infosearch/1 Index/friends/Friends - season 4/Friends - 4x01 - The One With The Jellyfish.Tv.ru.txt\n",
      "/Users/Ya.Klop/Desktop/Study/proga/infosearch/1 Index/friends/Friends - season 4/Friends - 4x06 - The One With The Dirty Girl.ru.txt\n",
      "/Users/Ya.Klop/Desktop/Study/proga/infosearch/1 Index/friends/Friends - season 4/Friends - 4x09 - The One Where They're Going To Party!.ru.txt\n",
      "/Users/Ya.Klop/Desktop/Study/proga/infosearch/1 Index/friends/Friends - season 4/Friends - 4x02 - The One With The Cat.Tv.ru.txt\n",
      "/Users/Ya.Klop/Desktop/Study/proga/infosearch/1 Index/friends/Friends - season 4/Friends - 4x08 - The One With Chandler In A Box.ru.txt\n",
      "/Users/Ya.Klop/Desktop/Study/proga/infosearch/1 Index/friends/Friends - season 4/Friends - 4x16 - The One With The Fake Party.ru.txt\n",
      "/Users/Ya.Klop/Desktop/Study/proga/infosearch/1 Index/friends/Friends - season 4/Friends - 4x03 - The One With The 'Cuffs.ru.txt\n",
      "/Users/Ya.Klop/Desktop/Study/proga/infosearch/1 Index/friends/Friends - season 4/Friends - 4x10 - The One With The Girl From Poughkeepsie.ru.txt\n",
      "/Users/Ya.Klop/Desktop/Study/proga/infosearch/1 Index/friends/Friends - season 4/Friends - 4x04 - The One With The Ballroom Dancing.ru.txt\n",
      "/Users/Ya.Klop/Desktop/Study/proga/infosearch/1 Index/friends/Friends - season 4/Friends - 4x18 - The One With Rachel's New Dress.ru.txt\n",
      "/Users/Ya.Klop/Desktop/Study/proga/infosearch/1 Index/friends/Friends - season 3/Friends - 3x15 - The One Where Ross And Rachel Take A Break (1).ru.txt\n",
      "/Users/Ya.Klop/Desktop/Study/proga/infosearch/1 Index/friends/Friends - season 3/Friends - 3x14 - The One With Phoebe's Ex-Partner.ru.txt\n",
      "/Users/Ya.Klop/Desktop/Study/proga/infosearch/1 Index/friends/Friends - season 3/Friends - 3x02 - The One Where No One's Ready.ru.txt\n",
      "/Users/Ya.Klop/Desktop/Study/proga/infosearch/1 Index/friends/Friends - season 3/Friends - 3x13 - The One Where Monica And Richard Are Just Friends.ru.txt\n",
      "/Users/Ya.Klop/Desktop/Study/proga/infosearch/1 Index/friends/Friends - season 3/Friends - 3x10 - The One Where Rachel Quits.ru.txt\n",
      "/Users/Ya.Klop/Desktop/Study/proga/infosearch/1 Index/friends/Friends - season 3/Friends - 3x17 - The One Without The Ski Trip.ru.txt\n",
      "/Users/Ya.Klop/Desktop/Study/proga/infosearch/1 Index/friends/Friends - season 3/Friends - 3x07 - The One With The Race Car Bed.ru.txt\n",
      "/Users/Ya.Klop/Desktop/Study/proga/infosearch/1 Index/friends/Friends - season 3/Friends - 3x16 - The One With The Morning After (2).ru.txt\n",
      "/Users/Ya.Klop/Desktop/Study/proga/infosearch/1 Index/friends/Friends - season 3/Friends - 3x20 - The One With The Dollhouse.ru.txt\n",
      "/Users/Ya.Klop/Desktop/Study/proga/infosearch/1 Index/friends/Friends - season 3/Friends - 3x01 - The One With The Princess Leia Fantasy.ru.txt\n",
      "/Users/Ya.Klop/Desktop/Study/proga/infosearch/1 Index/friends/Friends - season 3/Friends - 3x04 - The One With The Metaphorical Tunnel.ru.txt\n",
      "/Users/Ya.Klop/Desktop/Study/proga/infosearch/1 Index/friends/Friends - season 3/Friends - 3x08 - The One With The Giant Poking Device.ru.txt\n",
      "/Users/Ya.Klop/Desktop/Study/proga/infosearch/1 Index/friends/Friends - season 3/Friends - 3x03 - The One With The Jam.ru.txt\n",
      "/Users/Ya.Klop/Desktop/Study/proga/infosearch/1 Index/friends/Friends - season 3/Friends - 3x09 - The One With The Football.ru.txt\n",
      "/Users/Ya.Klop/Desktop/Study/proga/infosearch/1 Index/friends/Friends - season 3/Friends - 3x21 - The One With A Chick And A Duck.ru.txt\n",
      "/Users/Ya.Klop/Desktop/Study/proga/infosearch/1 Index/friends/Friends - season 3/Friends - 3x11 - The One Where Chandler Can't Remember Which Sister.ru.txt\n",
      "/Users/Ya.Klop/Desktop/Study/proga/infosearch/1 Index/friends/Friends - season 3/Friends - 3x18 - The One With The Hypnosis Tape.ru.txt\n",
      "/Users/Ya.Klop/Desktop/Study/proga/infosearch/1 Index/friends/Friends - season 3/Friends - 3x06 - The One With The Flashback.ru.txt\n",
      "/Users/Ya.Klop/Desktop/Study/proga/infosearch/1 Index/friends/Friends - season 3/Friends - 3x12 - The One With All The Jealousy.ru.txt\n",
      "/Users/Ya.Klop/Desktop/Study/proga/infosearch/1 Index/friends/Friends - season 3/Friends - 3x05 - The One With Frank Jr..ru.txt\n",
      "/Users/Ya.Klop/Desktop/Study/proga/infosearch/1 Index/friends/Friends - season 3/Friends - 3x19 - The One With The Tiny T-Shirt.ru.txt\n",
      "/Users/Ya.Klop/Desktop/Study/proga/infosearch/1 Index/friends/Friends - season 6/Friends - 6x15 - The One That Could Have Been (1).ru.txt\n",
      "/Users/Ya.Klop/Desktop/Study/proga/infosearch/1 Index/friends/Friends - season 6/Friends - 6x03 - The One With Ross's Denial.ru.txt\n",
      "/Users/Ya.Klop/Desktop/Study/proga/infosearch/1 Index/friends/Friends - season 6/Friends - 6x22 - The One Where Paul's The Man.ru.txt\n",
      "/Users/Ya.Klop/Desktop/Study/proga/infosearch/1 Index/friends/Friends - season 6/Friends - 6x25-26 - The One With The Proposal (2).ru.txt\n",
      "/Users/Ya.Klop/Desktop/Study/proga/infosearch/1 Index/friends/Friends - season 6/Friends - 6x13 - The One With Rachel's Sister (1).ru.txt\n",
      "/Users/Ya.Klop/Desktop/Study/proga/infosearch/1 Index/friends/Friends - season 6/Friends - 6x04 - The One Where Joey Loses His Insurance.ru.txt\n",
      "/Users/Ya.Klop/Desktop/Study/proga/infosearch/1 Index/friends/Friends - season 6/Friends - 6x07 - The One Where Phoebe Runs.ru.txt\n",
      "/Users/Ya.Klop/Desktop/Study/proga/infosearch/1 Index/friends/Friends - season 6/Friends - 6x24 - The One With The Proposal (1).ru.txt\n",
      "/Users/Ya.Klop/Desktop/Study/proga/infosearch/1 Index/friends/Friends - season 6/Friends - 6x12 - The One With The Joke.ru.txt\n",
      "/Users/Ya.Klop/Desktop/Study/proga/infosearch/1 Index/friends/Friends - season 6/Friends - 6x17 - The One With Unagi.ru.txt\n",
      "/Users/Ya.Klop/Desktop/Study/proga/infosearch/1 Index/friends/Friends - season 6/Friends - 6x14 - The One Where Chandler Can't Cry (2).ru.txt\n",
      "/Users/Ya.Klop/Desktop/Study/proga/infosearch/1 Index/friends/Friends - season 6/Friends - 6x20 - The One With Mac And C.H.E.E.S.E..ru.txt\n",
      "/Users/Ya.Klop/Desktop/Study/proga/infosearch/1 Index/friends/Friends - season 6/Friends - 6x08 - The One With Ross's Teeth.ru.txt\n",
      "/Users/Ya.Klop/Desktop/Study/proga/infosearch/1 Index/friends/Friends - season 6/Friends - 6x10 - The One With The Routine.ru.txt\n",
      "/Users/Ya.Klop/Desktop/Study/proga/infosearch/1 Index/friends/Friends - season 6/Friends - 6x01 - The One After Vegas.ru.txt\n",
      "/Users/Ya.Klop/Desktop/Study/proga/infosearch/1 Index/friends/Friends - season 6/Friends - 6x05 - The One With Joey's Porsche.ru.txt\n",
      "/Users/Ya.Klop/Desktop/Study/proga/infosearch/1 Index/friends/Friends - season 6/Friends - 6x09 - The One Where Ross Got High.ru.txt\n",
      "/Users/Ya.Klop/Desktop/Study/proga/infosearch/1 Index/friends/Friends - season 6/Friends - 6x11 - The One With The Apothecary Table.ru.txt\n",
      "/Users/Ya.Klop/Desktop/Study/proga/infosearch/1 Index/friends/Friends - season 6/Friends - 6x21 - The One Where Ross Meets Elizabeth's Dad.ru.txt\n",
      "/Users/Ya.Klop/Desktop/Study/proga/infosearch/1 Index/friends/Friends - season 6/Friends - 6x23 - The One With The Ring.ru.txt\n",
      "/Users/Ya.Klop/Desktop/Study/proga/infosearch/1 Index/friends/Friends - season 6/Friends - 6x18 - The One Where Ross Dates A Student.ru.txt\n",
      "/Users/Ya.Klop/Desktop/Study/proga/infosearch/1 Index/friends/Friends - season 6/Friends - 6x16-17 - The One That Could Have Been (2).ru.txt\n",
      "/Users/Ya.Klop/Desktop/Study/proga/infosearch/1 Index/friends/Friends - season 6/Friends - 6x19 - The One With Joey's Fridge.ru.txt\n",
      "/Users/Ya.Klop/Desktop/Study/proga/infosearch/1 Index/friends/Friends - season 6/Friends - 6x02 - The One Where Ross Hugs Rachel.ru.txt\n",
      "/Users/Ya.Klop/Desktop/Study/proga/infosearch/1 Index/friends/Friends - season 6/Friends - 6x06 - The One On The Last Night.ru.txt\n",
      "/Users/Ya.Klop/Desktop/Study/proga/infosearch/1 Index/friends/Friends - season 1/Friends - 1x07 - The One With The Blackout.ru.txt\n",
      "/Users/Ya.Klop/Desktop/Study/proga/infosearch/1 Index/friends/Friends - season 1/Friends - 1x10 - The One With The Monkey.ru.txt\n",
      "/Users/Ya.Klop/Desktop/Study/proga/infosearch/1 Index/friends/Friends - season 1/Friends - 1x08 - The One Where Nana Dies Twice.ru.txt\n",
      "/Users/Ya.Klop/Desktop/Study/proga/infosearch/1 Index/friends/Friends - season 1/Friends - 1x06 - The One With The Butt.ru.txt\n",
      "/Users/Ya.Klop/Desktop/Study/proga/infosearch/1 Index/friends/Friends - season 1/Friends - 1x12 - The One With The Dozen Lasagnas.ru.txt\n",
      "/Users/Ya.Klop/Desktop/Study/proga/infosearch/1 Index/friends/Friends - season 1/Friends - 1x11 - The One With Mrs. Bing.ru.txt\n",
      "/Users/Ya.Klop/Desktop/Study/proga/infosearch/1 Index/friends/Friends - season 1/Friends - 1x13 - The One With The Boobies.ru.txt\n",
      "/Users/Ya.Klop/Desktop/Study/proga/infosearch/1 Index/friends/Friends - season 1/Friends - 1x03 - The One With The Thumb.ru.txt\n",
      "/Users/Ya.Klop/Desktop/Study/proga/infosearch/1 Index/friends/Friends - season 1/Friends - 1x20 - The One With The Evil Orthodontist.ru.txt\n",
      "/Users/Ya.Klop/Desktop/Study/proga/infosearch/1 Index/friends/Friends - season 1/Friends - 1x17 - The One With Two Parts (2).ru.txt\n",
      "/Users/Ya.Klop/Desktop/Study/proga/infosearch/1 Index/friends/Friends - season 1/Friends - 1x14 - The One With The Candy Hearts.ru.txt\n",
      "/Users/Ya.Klop/Desktop/Study/proga/infosearch/1 Index/friends/Friends - season 1/Friends - 1x15 - The One With The Stoned Guy.ru.txt\n",
      "/Users/Ya.Klop/Desktop/Study/proga/infosearch/1 Index/friends/Friends - season 1/Friends - 1x16 - The One With Two Parts (1).ru.txt\n",
      "/Users/Ya.Klop/Desktop/Study/proga/infosearch/1 Index/friends/Friends - season 1/Friends - 1x04 - The One With George Stephanopoulos.ru.txt\n",
      "/Users/Ya.Klop/Desktop/Study/proga/infosearch/1 Index/friends/Friends - season 1/Friends - 1x02 - The One With The Sonogram At The End.ru.txt\n",
      "/Users/Ya.Klop/Desktop/Study/proga/infosearch/1 Index/friends/Friends - season 1/Friends - 1x18 - The One With All The Poker.ru.txt\n",
      "/Users/Ya.Klop/Desktop/Study/proga/infosearch/1 Index/friends/Friends - season 1/Friends - 1x05 - The One With The East German Laundry Detergent.ru.txt\n",
      "/Users/Ya.Klop/Desktop/Study/proga/infosearch/1 Index/friends/Friends - season 1/Friends - 1x09 - The One Where Underdog Gets Away.ru.txt\n",
      "/Users/Ya.Klop/Desktop/Study/proga/infosearch/1 Index/friends/Friends - season 1/Friends - 1x01 - The One Where Monica Gets A Roommate.ru.txt\n",
      "/Users/Ya.Klop/Desktop/Study/proga/infosearch/1 Index/friends/Friends - season 1/Friends - 1x19 - The One Where The Monkey Gets Away.ru.txt\n",
      "/Users/Ya.Klop/Desktop/Study/proga/infosearch/1 Index/friends/Friends - season 7/Friends - 7x06 - The One With The Nap Partners.ru.txt\n",
      "/Users/Ya.Klop/Desktop/Study/proga/infosearch/1 Index/friends/Friends - season 7/Friends - 7x21 - The One With The Vows.ru.txt\n",
      "/Users/Ya.Klop/Desktop/Study/proga/infosearch/1 Index/friends/Friends - season 7/Friends - 7x22 - The One With Chandler's Dad.ru.txt\n",
      "/Users/Ya.Klop/Desktop/Study/proga/infosearch/1 Index/friends/Friends - season 7/Friends - 7x04 - The One With Rachel's Assistant.ru.txt\n",
      "/Users/Ya.Klop/Desktop/Study/proga/infosearch/1 Index/friends/Friends - season 7/Friends - 7x20 - The One With Rachel's Big Kiss.ru.txt\n",
      "/Users/Ya.Klop/Desktop/Study/proga/infosearch/1 Index/friends/Friends - season 7/Friends - 7x15 - The One With Joey's New Brain.ru.txt\n",
      "/Users/Ya.Klop/Desktop/Study/proga/infosearch/1 Index/friends/Friends - season 7/Friends - 7x14 - The One Where They All Turn Thirty.ru.txt\n",
      "/Users/Ya.Klop/Desktop/Study/proga/infosearch/1 Index/friends/Friends - season 7/Friends - 7x19 - The One With Ross And Monica's Cousin.ru.txt\n",
      "/Users/Ya.Klop/Desktop/Study/proga/infosearch/1 Index/friends/Friends - season 7/Friends - 7x16 - The One With The Truth About London.ru.txt\n",
      "/Users/Ya.Klop/Desktop/Study/proga/infosearch/1 Index/friends/Friends - season 7/Friends - 7x10 - The One With The Holiday Armadillo.ru.txt\n",
      "/Users/Ya.Klop/Desktop/Study/proga/infosearch/1 Index/friends/Friends - season 7/Friends - 7x02 - The One With Rachel's Book.ru.txt\n",
      "/Users/Ya.Klop/Desktop/Study/proga/infosearch/1 Index/friends/Friends - season 7/Friends - 7x18 - The One With Joey's Award.ru.txt\n",
      "/Users/Ya.Klop/Desktop/Study/proga/infosearch/1 Index/friends/Friends - season 7/Friends - 7x07 - The One With Ross's Library Book.ru.txt\n",
      "/Users/Ya.Klop/Desktop/Study/proga/infosearch/1 Index/friends/Friends - season 7/Friends - 7x05 - The One With The Engagement Picture.ru.txt\n",
      "/Users/Ya.Klop/Desktop/Study/proga/infosearch/1 Index/friends/Friends - season 7/Friends - 7x24-25 - The One With Chandler And Monica's Wedding (2).ru.txt\n",
      "/Users/Ya.Klop/Desktop/Study/proga/infosearch/1 Index/friends/Friends - season 7/Friends - 7x08 - The One Where Chandler Doesn't Like Dogs.ru.txt\n",
      "/Users/Ya.Klop/Desktop/Study/proga/infosearch/1 Index/friends/Friends - season 7/Friends - 7x09 - The One With All The Candy.ru.txt\n",
      "/Users/Ya.Klop/Desktop/Study/proga/infosearch/1 Index/friends/Friends - season 7/Friends - 7x17 - The One With The Cheap Wedding Dress.ru.txt\n",
      "/Users/Ya.Klop/Desktop/Study/proga/infosearch/1 Index/friends/Friends - season 7/Friends - 7x23 - The One With Chandler And Monica's Wedding (1).ru.txt\n",
      "/Users/Ya.Klop/Desktop/Study/proga/infosearch/1 Index/friends/Friends - season 7/Friends - 7x13 - The One Where Rosita Dies.ru.txt\n",
      "/Users/Ya.Klop/Desktop/Study/proga/infosearch/1 Index/friends/Friends - season 7/Friends - 7x11 - The One With All The Cheesecakes.ru.txt\n",
      "/Users/Ya.Klop/Desktop/Study/proga/infosearch/1 Index/friends/Friends - season 7/Friends - 7x12 - The One Where They're Up All Night.ru.txt\n",
      "/Users/Ya.Klop/Desktop/Study/proga/infosearch/1 Index/friends/Friends - season 7/Friends - 7x03 - The One With Phoebe's Cookies.ru.txt\n",
      "/Users/Ya.Klop/Desktop/Study/proga/infosearch/1 Index/friends/Friends - season 7/Friends - 7x01 - The One With Monica's Thunder.ru.txt\n"
     ]
    }
   ],
   "source": [
    "for root, dirs, files in os.walk(curr_dir):\n",
    "    for name in files:\n",
    "        print(os.path.join(root, name))"
   ]
  },
  {
   "cell_type": "markdown",
   "metadata": {},
   "source": [
    "> __os.walk__ возвращает генератор, это значит, что получить его элементы можно только проитерировавшись по нему  \n",
    "но его легко можно превратить в list и увидеть все его значения"
   ]
  },
  {
   "cell_type": "code",
   "execution_count": 5,
   "metadata": {},
   "outputs": [
    {
     "data": {
      "text/plain": [
       "[('/Users/Ya.Klop/Desktop/Study/proga/infosearch/1 Index',\n",
       "  ['.ipynb_checkpoints', 'friends'],\n",
       "  ['lec1_Index.pdf', '.DS_Store', 'sem1_Index.ipynb', 'test.txt']),\n",
       " ('/Users/Ya.Klop/Desktop/Study/proga/infosearch/1 Index/.ipynb_checkpoints',\n",
       "  [],\n",
       "  ['sem1_Index-checkpoint.ipynb']),\n",
       " ('/Users/Ya.Klop/Desktop/Study/proga/infosearch/1 Index/friends',\n",
       "  ['Friends - season 2',\n",
       "   'Friends - season 5',\n",
       "   'Friends - season 4',\n",
       "   'Friends - season 3',\n",
       "   'Friends - season 6',\n",
       "   'Friends - season 1',\n",
       "   'Friends - season 7'],\n",
       "  ['.DS_Store']),\n",
       " ('/Users/Ya.Klop/Desktop/Study/proga/infosearch/1 Index/friends/Friends - season 2',\n",
       "  [],\n",
       "  ['Friends - 2x08 - The One With The List.ru.txt',\n",
       "   'Friends - 2x20 - The One Where Old Yeller Dies.NurlanB.ru.txt',\n",
       "   \"Friends - 2x24 - The One With Barry And Mindy's Wedding.ru.txt\",\n",
       "   'Friends - 2x16 - The One Where Joey Moves Out.ru.txt',\n",
       "   'Friends - 2x07 - The One Where Ross Finds Out.ru.txt',\n",
       "   'Friends - 2x17 - The One Where Eddie Moves In.ru.txt',\n",
       "   \"Friends - 2x04 - The One With Phoebe's Husband.ru.txt\",\n",
       "   'Friends - 2x15 - The One Where Ross And Rachel...You Know.ru.txt',\n",
       "   \"Friends - 2x01 - The One With Ross's New Girlfriend.DVDRip.ru.txt\",\n",
       "   'Friends - 2x21 - The One With The Bullies.ru.txt',\n",
       "   \"Friends - 2x09 - The One With Phoebe's Dad.ru.txt\",\n",
       "   'Friends - 2x03 - The One Where Heckles Dies.ru.txt',\n",
       "   \"Friends - 2x19 - The One Where Eddie Won't Go.ru.txt\",\n",
       "   'Friends - 2x11 - The One With The Lesbian Wedding.ru.txt',\n",
       "   'Friends - 2x10 - The One With Russ.ru.txt',\n",
       "   \"Friends - 2x01 - The One With Ross's New Girlfriend.ru.txt\",\n",
       "   'Friends - 2x13 - The One After The Super Bowl (2).ru.txt',\n",
       "   'Friends - 2x23 - The One With The Chicken Pox.ru.txt',\n",
       "   'Friends - 2x05 - The One With Five Steaks And An Eggplant.ru.txt',\n",
       "   'Friends - 2x02 - The One With The Breast Milk.ru.txt',\n",
       "   'Friends - 2x06 - The One With The Baby On The Bus.ru.txt',\n",
       "   'Friends - 2x12 - The One After The Super Bowl (1).ru.txt',\n",
       "   'Friends - 2x14 - The One With The Prom Video.ru.txt',\n",
       "   'Friends - 2x22 - The One With The Two Parties.ru.txt',\n",
       "   'Friends - 2x18 - The One Where Dr. Ramoray Dies.ru.txt']),\n",
       " ('/Users/Ya.Klop/Desktop/Study/proga/infosearch/1 Index/friends/Friends - season 5',\n",
       "  [],\n",
       "  ['Friends - 5x05 - The One With The Kips.ru.txt',\n",
       "   \"Friends - 5x09 - The One With Ross's Sandwich.ru.txt\",\n",
       "   'Friends - 5x23-24 - The One In Vegas (1).ru.txt',\n",
       "   'Friends - 5x06 - The One With The Yeti.ru.txt',\n",
       "   'Friends - 5x20 - The One With The Ride Along.ru.txt',\n",
       "   'Friends - 5x10 - The One With The Inappropriate Sister.ru.txt',\n",
       "   'Friends - 5x11 - The One With All The Resolutions.ru.txt',\n",
       "   'Friends - 5x18 - The One Where Rachel Smokes.ru.txt',\n",
       "   'Friends - 5x24-25 - The One In Vegas (2).ru.txt',\n",
       "   'Friends - 5x08 - The One With The Thanksgiving Flashbacks.ru.txt',\n",
       "   \"Friends - 5x22 - The One With Joey's Big Break.ru.txt\",\n",
       "   'Friends - 5x07 - The One Where Ross Moves In.ru.txt',\n",
       "   \"Friends - 5x17 - The One With Rachel's Inadvertent Kiss.ru.txt\",\n",
       "   'Friends - 5x16 - The One With The Cop.ru.txt',\n",
       "   'Friends - 5x14 - The One Where Everybody Finds Out.ru.txt',\n",
       "   \"Friends - 5x13 - The One With Joey's Bag.ru.txt\",\n",
       "   'Friends - 5x04 - The One Where Phoebe Hates PBS.ru.txt',\n",
       "   'Friends - 5x03 - The One Hundredth.ru.txt',\n",
       "   \"Friends - 5x12 - The One With Chandler's Work Laugh.ru.txt\",\n",
       "   'Friends - 5x15 - The One With The Girl Who Hits Joey.ru.txt',\n",
       "   'Friends - 5x02 - The One With All The Kissing.ru.txt',\n",
       "   'Friends - 5x01 - The One After Ross Says Rachel.ru.txt',\n",
       "   'Friends - 5x21 - The One With The Ball.ru.txt',\n",
       "   \"Friends - 5x19 - The One Where Ross Can't Flirt.ru.txt\"]),\n",
       " ('/Users/Ya.Klop/Desktop/Study/proga/infosearch/1 Index/friends/Friends - season 4',\n",
       "  [],\n",
       "  [\"Friends - 4x24-25 - The One With Ross's Wedding (2).ru.txt\",\n",
       "   \"Friends - 4x23-24 - The One With Ross's Wedding (1).ru.txt\",\n",
       "   \"Friends - 4x13 - The One With Rachel's Crush.ru.txt\",\n",
       "   'Friends - 4x07 - The One Where Chandler Crosses The Line.ru.txt',\n",
       "   'Friends - 4x22 - The One With The Worst Best Man Ever.ru.txt',\n",
       "   'Friends - 4x20 - The One With The Wedding Dresses.ru.txt',\n",
       "   'Friends - 4x12 - The One With The Embryos.ru.txt',\n",
       "   'Friends - 4x21 - The One With The Invitations.ru.txt',\n",
       "   'Friends - 4x19 - The One With All The Haste.ru.txt',\n",
       "   'Friends - 4x17 - The One With The Free Porn.ru.txt',\n",
       "   \"Friends - 4x11 - The One With Phoebe's Uterus.ru.txt\",\n",
       "   \"Friends - 4x05 - The One With Joey's New Girlfriend.ru.txt\",\n",
       "   'Friends - 4x15 - The One With All The Rugby.ru.txt',\n",
       "   \"Friends - 4x14 - The One With Joey's Dirty Day.ru.txt\",\n",
       "   'Friends - 4x01 - The One With The Jellyfish.ru.txt',\n",
       "   'Friends - 4x02 - The One With The Cat.ru.txt',\n",
       "   'Friends - 4x01 - The One With The Jellyfish.Tv.ru.txt',\n",
       "   'Friends - 4x06 - The One With The Dirty Girl.ru.txt',\n",
       "   \"Friends - 4x09 - The One Where They're Going To Party!.ru.txt\",\n",
       "   'Friends - 4x02 - The One With The Cat.Tv.ru.txt',\n",
       "   'Friends - 4x08 - The One With Chandler In A Box.ru.txt',\n",
       "   'Friends - 4x16 - The One With The Fake Party.ru.txt',\n",
       "   \"Friends - 4x03 - The One With The 'Cuffs.ru.txt\",\n",
       "   'Friends - 4x10 - The One With The Girl From Poughkeepsie.ru.txt',\n",
       "   'Friends - 4x04 - The One With The Ballroom Dancing.ru.txt',\n",
       "   \"Friends - 4x18 - The One With Rachel's New Dress.ru.txt\"]),\n",
       " ('/Users/Ya.Klop/Desktop/Study/proga/infosearch/1 Index/friends/Friends - season 3',\n",
       "  [],\n",
       "  ['Friends - 3x15 - The One Where Ross And Rachel Take A Break (1).ru.txt',\n",
       "   \"Friends - 3x14 - The One With Phoebe's Ex-Partner.ru.txt\",\n",
       "   \"Friends - 3x02 - The One Where No One's Ready.ru.txt\",\n",
       "   'Friends - 3x13 - The One Where Monica And Richard Are Just Friends.ru.txt',\n",
       "   'Friends - 3x10 - The One Where Rachel Quits.ru.txt',\n",
       "   'Friends - 3x17 - The One Without The Ski Trip.ru.txt',\n",
       "   'Friends - 3x07 - The One With The Race Car Bed.ru.txt',\n",
       "   'Friends - 3x16 - The One With The Morning After (2).ru.txt',\n",
       "   'Friends - 3x20 - The One With The Dollhouse.ru.txt',\n",
       "   'Friends - 3x01 - The One With The Princess Leia Fantasy.ru.txt',\n",
       "   'Friends - 3x04 - The One With The Metaphorical Tunnel.ru.txt',\n",
       "   'Friends - 3x08 - The One With The Giant Poking Device.ru.txt',\n",
       "   'Friends - 3x03 - The One With The Jam.ru.txt',\n",
       "   'Friends - 3x09 - The One With The Football.ru.txt',\n",
       "   'Friends - 3x21 - The One With A Chick And A Duck.ru.txt',\n",
       "   \"Friends - 3x11 - The One Where Chandler Can't Remember Which Sister.ru.txt\",\n",
       "   'Friends - 3x18 - The One With The Hypnosis Tape.ru.txt',\n",
       "   'Friends - 3x06 - The One With The Flashback.ru.txt',\n",
       "   'Friends - 3x12 - The One With All The Jealousy.ru.txt',\n",
       "   'Friends - 3x05 - The One With Frank Jr..ru.txt',\n",
       "   'Friends - 3x19 - The One With The Tiny T-Shirt.ru.txt']),\n",
       " ('/Users/Ya.Klop/Desktop/Study/proga/infosearch/1 Index/friends/Friends - season 6',\n",
       "  [],\n",
       "  ['Friends - 6x15 - The One That Could Have Been (1).ru.txt',\n",
       "   \"Friends - 6x03 - The One With Ross's Denial.ru.txt\",\n",
       "   \"Friends - 6x22 - The One Where Paul's The Man.ru.txt\",\n",
       "   'Friends - 6x25-26 - The One With The Proposal (2).ru.txt',\n",
       "   \"Friends - 6x13 - The One With Rachel's Sister (1).ru.txt\",\n",
       "   'Friends - 6x04 - The One Where Joey Loses His Insurance.ru.txt',\n",
       "   'Friends - 6x07 - The One Where Phoebe Runs.ru.txt',\n",
       "   'Friends - 6x24 - The One With The Proposal (1).ru.txt',\n",
       "   'Friends - 6x12 - The One With The Joke.ru.txt',\n",
       "   'Friends - 6x17 - The One With Unagi.ru.txt',\n",
       "   \"Friends - 6x14 - The One Where Chandler Can't Cry (2).ru.txt\",\n",
       "   'Friends - 6x20 - The One With Mac And C.H.E.E.S.E..ru.txt',\n",
       "   \"Friends - 6x08 - The One With Ross's Teeth.ru.txt\",\n",
       "   'Friends - 6x10 - The One With The Routine.ru.txt',\n",
       "   'Friends - 6x01 - The One After Vegas.ru.txt',\n",
       "   \"Friends - 6x05 - The One With Joey's Porsche.ru.txt\",\n",
       "   'Friends - 6x09 - The One Where Ross Got High.ru.txt',\n",
       "   'Friends - 6x11 - The One With The Apothecary Table.ru.txt',\n",
       "   \"Friends - 6x21 - The One Where Ross Meets Elizabeth's Dad.ru.txt\",\n",
       "   'Friends - 6x23 - The One With The Ring.ru.txt',\n",
       "   'Friends - 6x18 - The One Where Ross Dates A Student.ru.txt',\n",
       "   'Friends - 6x16-17 - The One That Could Have Been (2).ru.txt',\n",
       "   \"Friends - 6x19 - The One With Joey's Fridge.ru.txt\",\n",
       "   'Friends - 6x02 - The One Where Ross Hugs Rachel.ru.txt',\n",
       "   'Friends - 6x06 - The One On The Last Night.ru.txt']),\n",
       " ('/Users/Ya.Klop/Desktop/Study/proga/infosearch/1 Index/friends/Friends - season 1',\n",
       "  [],\n",
       "  ['Friends - 1x07 - The One With The Blackout.ru.txt',\n",
       "   'Friends - 1x10 - The One With The Monkey.ru.txt',\n",
       "   'Friends - 1x08 - The One Where Nana Dies Twice.ru.txt',\n",
       "   'Friends - 1x06 - The One With The Butt.ru.txt',\n",
       "   'Friends - 1x12 - The One With The Dozen Lasagnas.ru.txt',\n",
       "   'Friends - 1x11 - The One With Mrs. Bing.ru.txt',\n",
       "   'Friends - 1x13 - The One With The Boobies.ru.txt',\n",
       "   'Friends - 1x03 - The One With The Thumb.ru.txt',\n",
       "   'Friends - 1x20 - The One With The Evil Orthodontist.ru.txt',\n",
       "   'Friends - 1x17 - The One With Two Parts (2).ru.txt',\n",
       "   'Friends - 1x14 - The One With The Candy Hearts.ru.txt',\n",
       "   'Friends - 1x15 - The One With The Stoned Guy.ru.txt',\n",
       "   'Friends - 1x16 - The One With Two Parts (1).ru.txt',\n",
       "   'Friends - 1x04 - The One With George Stephanopoulos.ru.txt',\n",
       "   'Friends - 1x02 - The One With The Sonogram At The End.ru.txt',\n",
       "   'Friends - 1x18 - The One With All The Poker.ru.txt',\n",
       "   'Friends - 1x05 - The One With The East German Laundry Detergent.ru.txt',\n",
       "   'Friends - 1x09 - The One Where Underdog Gets Away.ru.txt',\n",
       "   'Friends - 1x01 - The One Where Monica Gets A Roommate.ru.txt',\n",
       "   'Friends - 1x19 - The One Where The Monkey Gets Away.ru.txt']),\n",
       " ('/Users/Ya.Klop/Desktop/Study/proga/infosearch/1 Index/friends/Friends - season 7',\n",
       "  [],\n",
       "  ['Friends - 7x06 - The One With The Nap Partners.ru.txt',\n",
       "   'Friends - 7x21 - The One With The Vows.ru.txt',\n",
       "   \"Friends - 7x22 - The One With Chandler's Dad.ru.txt\",\n",
       "   \"Friends - 7x04 - The One With Rachel's Assistant.ru.txt\",\n",
       "   \"Friends - 7x20 - The One With Rachel's Big Kiss.ru.txt\",\n",
       "   \"Friends - 7x15 - The One With Joey's New Brain.ru.txt\",\n",
       "   'Friends - 7x14 - The One Where They All Turn Thirty.ru.txt',\n",
       "   \"Friends - 7x19 - The One With Ross And Monica's Cousin.ru.txt\",\n",
       "   'Friends - 7x16 - The One With The Truth About London.ru.txt',\n",
       "   'Friends - 7x10 - The One With The Holiday Armadillo.ru.txt',\n",
       "   \"Friends - 7x02 - The One With Rachel's Book.ru.txt\",\n",
       "   \"Friends - 7x18 - The One With Joey's Award.ru.txt\",\n",
       "   \"Friends - 7x07 - The One With Ross's Library Book.ru.txt\",\n",
       "   'Friends - 7x05 - The One With The Engagement Picture.ru.txt',\n",
       "   \"Friends - 7x24-25 - The One With Chandler And Monica's Wedding (2).ru.txt\",\n",
       "   \"Friends - 7x08 - The One Where Chandler Doesn't Like Dogs.ru.txt\",\n",
       "   'Friends - 7x09 - The One With All The Candy.ru.txt',\n",
       "   'Friends - 7x17 - The One With The Cheap Wedding Dress.ru.txt',\n",
       "   \"Friends - 7x23 - The One With Chandler And Monica's Wedding (1).ru.txt\",\n",
       "   'Friends - 7x13 - The One Where Rosita Dies.ru.txt',\n",
       "   'Friends - 7x11 - The One With All The Cheesecakes.ru.txt',\n",
       "   \"Friends - 7x12 - The One Where They're Up All Night.ru.txt\",\n",
       "   \"Friends - 7x03 - The One With Phoebe's Cookies.ru.txt\",\n",
       "   \"Friends - 7x01 - The One With Monica's Thunder.ru.txt\"])]"
      ]
     },
     "execution_count": 5,
     "metadata": {},
     "output_type": "execute_result"
    }
   ],
   "source": [
    "list(os.walk(curr_dir))"
   ]
  },
  {
   "cell_type": "markdown",
   "metadata": {},
   "source": [
    "### чтение файла "
   ]
  },
  {
   "cell_type": "markdown",
   "metadata": {},
   "source": [
    "  "
   ]
  },
  {
   "cell_type": "code",
   "execution_count": 6,
   "metadata": {},
   "outputs": [],
   "source": [
    "fpath = 'test.txt'\n",
    "\n",
    "# одним массивом  \n",
    "with open(fpath, 'r') as f:  \n",
    "    text = f.read()\n",
    "\n",
    "    \n",
    "#по строкам, в конце каждой строки \\n  \n",
    "with open(fpath, 'r') as f:   \n",
    "    text = f.readlines() \n",
    "\n",
    "    \n",
    "#по строкам, без \\n   \n",
    "with open(fpath, 'r') as f:   \n",
    "    text = f.read().splitlines()"
   ]
  },
  {
   "cell_type": "markdown",
   "metadata": {},
   "source": [
    "Напоминание про enumerate:    \n",
    "> При итерации по списку вы можете помимо самого элемента получить его порядковый номер    \n",
    "``` for i, element in enumerate(your_list): ...  ```    \n",
    "Иногда для получения элемента делают так -  ``` your_list[i] ```, не надо так"
   ]
  },
  {
   "cell_type": "markdown",
   "metadata": {},
   "source": [
    "##  Индекс \n",
    "\n",
    "Сам по себе индекс - это просто формат хранения данных, он не может осуществлять поиск. Для этого необходимо добавить к нему определенную метрику. Это может быть что-то простое типа булева поиска, а может быть что-то более специфическое или кастомное под задачу.\n",
    "\n",
    "Давайте посмотрим, что полезного можно вытащить из самого индекса.    \n",
    "По сути, индекс - это информация о частоте встречаемости слова в каждом документе.   \n",
    "Из этого можно понять, например:\n",
    "1. какое слово является самым часто употребимым / редким\n",
    "2. какие слова встречаются всегда вместе - так можно парсить твиттер, fb, форумы и отлавливать новые устойчивые выражения в речи\n",
    "3. как эти документы кластеризуются по N тематикам согласно словам, которые в них упоминаются "
   ]
  },
  {
   "cell_type": "markdown",
   "metadata": {},
   "source": [
    "## __Задача__: \n",
    "\n",
    "**Data:** Коллекция субтитров сезонов Друзьей. Одна серия - один документ.\n",
    "\n",
    "**To do:** Постройте небольшой модуль поискового движка, который сможет осуществлять поиск по коллекции документов.\n",
    "На входе запрос и проиндексированная коллекция (в том виде, как посчитаете нужным), на выходе отсортированный по релевантности с запросом список документов коллекции. \n",
    "\n",
    "Релизуйте:\n",
    "    - функцию препроцессинга данных\n",
    "    - функцию индексирования данных\n",
    "    - функцию метрики релевантности \n",
    "    - собственно, функцию поиска\n",
    "\n",
    "[download_friends_corpus](https://yadi.sk/d/yVO1QV98CDibpw)"
   ]
  },
  {
   "cell_type": "markdown",
   "metadata": {},
   "source": [
    "Напоминание про defaultdict: \n",
    "> В качестве multiple values словаря рекомендую использовать ``` collections.defaultdict ```                          \n",
    "> Так можно избежать конструкции ``` dict.setdefault(key, default=None) ```"
   ]
  },
  {
   "cell_type": "code",
   "execution_count": 7,
   "metadata": {
    "scrolled": true
   },
   "outputs": [
    {
     "name": "stdout",
     "output_type": "stream",
     "text": [
      "/Users/Ya.Klop/Desktop/Study/proga/infosearch/1 Index/friends\n"
     ]
    }
   ],
   "source": [
    "print(os.path.abspath('friends'))"
   ]
  },
  {
   "cell_type": "code",
   "execution_count": 8,
   "metadata": {},
   "outputs": [],
   "source": [
    "main_dir = \"friends\"\n",
    "list_files = []\n",
    "\n",
    "for root, dirs, files in os.walk(main_dir):\n",
    "    for name in files:\n",
    "        if name.endswith('.txt'): \n",
    "            list_files.append(name)"
   ]
  },
  {
   "cell_type": "code",
   "execution_count": 9,
   "metadata": {},
   "outputs": [
    {
     "data": {
      "text/plain": [
       "165"
      ]
     },
     "execution_count": 9,
     "metadata": {},
     "output_type": "execute_result"
    }
   ],
   "source": [
    "### _check : в коллекции должно быть около 165 файлов\n",
    "len(list_files)"
   ]
  },
  {
   "cell_type": "code",
   "execution_count": 10,
   "metadata": {},
   "outputs": [],
   "source": [
    "def subtitle_filepath_generator():\n",
    "    for root, dirs, files in os.walk(main_dir):\n",
    "        for name in files:\n",
    "            if name.endswith('.txt'):\n",
    "                yield os.path.join(root, name)"
   ]
  },
  {
   "cell_type": "markdown",
   "metadata": {},
   "source": [
    "С помощью обратного индекса посчитайте:  \n",
    "\n",
    "\n",
    "a) какое слово является самым частотным\n",
    "\n",
    "b) какое самым редким\n",
    "\n",
    "c) какой набор слов есть во всех документах коллекции\n",
    "\n",
    "d) какой сезон был самым популярным у Чендлера? у Моники?\n",
    "\n",
    "e) кто из главных героев статистически самый популярный? \n"
   ]
  },
  {
   "cell_type": "markdown",
   "metadata": {},
   "source": [
    "## Функция препроцессинга: "
   ]
  },
  {
   "cell_type": "code",
   "execution_count": 11,
   "metadata": {},
   "outputs": [],
   "source": [
    "# !pip install pymystem3"
   ]
  },
  {
   "cell_type": "code",
   "execution_count": 12,
   "metadata": {},
   "outputs": [],
   "source": [
    "from nltk.tokenize import RegexpTokenizer\n",
    "from nltk.corpus import stopwords\n",
    "from pymystem3 import Mystem"
   ]
  },
  {
   "cell_type": "code",
   "execution_count": 13,
   "metadata": {},
   "outputs": [
    {
     "name": "stderr",
     "output_type": "stream",
     "text": [
      "[nltk_data] Downloading package stopwords to\n",
      "[nltk_data]     /Users/Ya.Klop/nltk_data...\n",
      "[nltk_data]   Package stopwords is already up-to-date!\n"
     ]
    },
    {
     "data": {
      "text/plain": [
       "True"
      ]
     },
     "execution_count": 13,
     "metadata": {},
     "output_type": "execute_result"
    }
   ],
   "source": [
    "import nltk\n",
    "nltk.download('stopwords')"
   ]
  },
  {
   "cell_type": "code",
   "execution_count": 14,
   "metadata": {},
   "outputs": [],
   "source": [
    "mystem = Mystem()\n",
    "stop_words = stopwords.words('russian')\n",
    "tokenizer = RegexpTokenizer(r'[а-яА-ЯёЁ]+')"
   ]
  },
  {
   "cell_type": "code",
   "execution_count": 15,
   "metadata": {},
   "outputs": [],
   "source": [
    "def preprocess_text(fpath):\n",
    "    with open(fpath, 'r') as file:\n",
    "        text = file.read().replace(u'\\ufeff','')\n",
    "\n",
    "        tokenized = tokenizer.tokenize(text)\n",
    "        lemmatized = [mystem.lemmatize(token)[0] for token in tokenized]\n",
    "        without_stopwords = [word for word in lemmatized if word not in stop_words]\n",
    "\n",
    "        return os.path.basename(file.name), \" \".join(without_stopwords)"
   ]
  },
  {
   "cell_type": "code",
   "execution_count": 16,
   "metadata": {},
   "outputs": [
    {
     "name": "stdout",
     "output_type": "stream",
     "text": [
      "росс поцеловать боже боже боже верить боже боже боже хотеть услышать моника тащить вино отключать телефон рэйчел кончаться понадобиться салфетка кончаться очень начинать начинать подробно поцелуй это мягкий кисточка губа тип трахнуть начинать довольно страстно просто утопать немой обнимать держать рука спина вначале держать талия скользнуть вверх волос поцеловать язык ага круто список росс сезон серия ка заценивать штучка двенадцать мегабайт память пятьсот мегабайт жесткий диск весь программный начинка модем скорость килобит секунда игра играть нету работа работа погодить ка хотеть работать голый повар набирать голый поваров готовить голый смочь танцевать голый это эй жизнь половый смешно страшно смешно подождать просто страшно постоять думать вчерашний вечер удаваться приходить домой видеть тумбочка раствор джули контактный линза думать боже делать джули замечательный женщина который нравиться отвечать взаимность это просто выбрасывать это раствор навевать говорить рэйчел рэйчел мечтать обо рэйчел десять год джули думать джули рэйчел джули рэйчел рэйчел привет дело привет милый привет джули привет джули джули дело вроде играть собираться вообще играть давать ладно джули носить линза привет привет поехать это песня любовный треугольник человек который придумывать называться двое вчера целоваться жить девушка имя бетти парень скажем нил заострять внимание равно настоящий нила приходиться решать девушка бросать сделать бетти свой возлюбленная это некий луль должный решать должный решать пусть выдумывать равно должный решать отличный резюме гарный аж далеко некуда муй импресибо очень впечатляющий исп мистер растаттер работа объявление неясно моколата просить прощение моколата синтетический заменитель шоколад давать попробовать кусочек наш мнение моколата шоколад ка здорово хрустеть шоколад хрустеть именно мэм день день получать сертификат минздрав абы успевать ко день благодарение наш взгляд шоколад доминировать праздник еда пасха рождество усякий правильный маркетинг сделать день благодарение моколатный праздник ого глотать пусть переставать пузыриться правда собственно шо нужный повар шоб сочинять рецепт день благодарение интересоваться нести ненно обожать составлять новый рецепт обожать день благодарение обожать моколата правда особенно послевкусие знать оно продержаться рождество насчет моколатный мусс очень день благодаренческий пилигримский моколатный мусс отчего становиться пилигримский шляпа надевать росс звонить извинять почему звонить хотеть оставаться джули оставаться эй джули подцеплять росс пожениться наделать ребенок славно зажить вместе обида это фига похоже делать это кошмар видеть тяжело приходиться ой любить баба оба клевый бумажник влазить полтинник туфля брюлик жать идея трогать компьютер слушать росс слово амур детруа подходить дело систематически составлять список рэйчел джули против выделять имя разный шрифт каждый столбец свой цвет просто ручка село неасфальтировать начинать против это интересный сначала рэйчел знать смысл ладно сказать слишком капризничать бывать колючий слишком зациклить свой внешность джули общий оба палеонтолог рэйчел просто официантка официантка готовый хотеть дума сыграть мочь продолжать знать лодыжка толстоватый заниматься джули плохо рэйчел тыквенный пирог моколатный корочка это клюквенный кекс моколат это печение моколатный стружка точность индеец господи господи вкусно господи мочь заставлять взять это рот боже милостивый оно вкус вселенский зло говорить печатать нажимать кнопка сто холодно клиент горячий линия это звездный путь смотреть разбивать джули сердце ужас кричать кричать бросаться попадать попадать поступать правильно спока обниматься отец эй ребята вернуться джули подумать наоборот наоборот подумать бросать джули обнимать ради бог правда правда рэйч боже очень сходить прогуливаться куртка взять давать приносить пойти куртка пойти куртка джоуи джоуи прямо вериться вериться это видеть свое имя это видеть видеть печатать оно печатать давать посмотреть эй куртка заказывать чендлер написать показывать показывать показывать это рассказ который писать это рассказ который писать немой действовать давать почитать давать давать почитать ладно лето жарко рэйчел пустой серый диван смотреть вскричать нед забирать королевство конец плохой писатель мир смешно бумажка хотеть это видеть ладно ребята впадать детство очень хотеться это это это спасибо держаться главное помнить обожать ладно бывать колючий зациклить внешность капризничать немножко придурок должный набирать немножко лишь официантка это просто просто отличие рэйч толстый лодыжка посмотреть сторона колонка джули рэчем фигня рэчем дурацкий термин палеонтология который понимать лишь официантка рэйч ладно это рэйчел дневник гениально сказать это дневник заставлять читать точно очень полезный человек день катастрофа росс мочь составлять список точно долбогрыз судить строго это чендлер подавать идея прекрасно бояться это сказать это подавать идея давать взглядывать это широко причина случаться ага причина фибс поддерживать верить весь херня карма удача следующий жизнь навозный жук рэйч эй открывать просить впускать звонок росс это означать уходить залезать пожарный лестница просто хотеть зачитывать твой список интересоваться пункт первый твой крик игровой шоу пункт второй любить друг пункт третий играть волос нервничать пункт четвертый смело начинать жизнь заново пункт пятый относиться бен пункт шестой пахнуть делать открывать окно делать наверно замерзать знать нужно славный чашечка дымиться горячий моколата ладно открывать рэйч хватить давать попробовать именно это сказать стоять уходить уходить разговор оканчивать знать знать росс представлять плохой думать каково узнавать человек который верить думать пользоваться это предлог хотеть несмотря это это великодушно твой сторона сказать стоять знать случаться наоборот смочь написать оставаться это разница писать список знать долго следовать помолчать ситуация наверное немного рецепт массовый доля мочь показываться необычный например праздничный кокосовый моколатно ореховый батончик класть четыре стакан кокос четыре стакан орехов столовый ложка моколата неважно минздрав одобрять лабораторный крыса боже извинять значить шоб чек спасибо беспокойство готовить немного пробовать немного это нормально немного это писать печь сказать подходить толстый лодыжка ходить давать выбирать хороший момент слушать помогать музыка включать ага следующий песня рэйчел росс рэйчел просить передавать жалеть сделать надеяться твой прощение твой взгляд окаменевать сердце твой рана ждать хитросплетение судьба ложе шип ждать ждать дождаться принимать звонок рэйчел рассказывать поступок росс это отвратительно росс слушать прекращать играть твой песня давать отдавать эфир пара который шанс эверь мишель жалеть сбивать машина надеяться налаживаться спасибо снова приходить принцип очень нужный деньги просто второй половинка это арыбахис вкус арахис делаться основное перерабатывать рыбный отход попробовать ладно аллергия кошачий шерсть извинять\n"
     ]
    }
   ],
   "source": [
    "documents = []\n",
    "preprocessed_texts = []\n",
    "\n",
    "for fpath in subtitle_filepath_generator():\n",
    "    document, lemmatized = preprocess_text(fpath)\n",
    "    \n",
    "    documents.append(document)\n",
    "    preprocessed_texts.append(lemmatized)\n",
    "\n",
    "print(preprocessed_texts[0])"
   ]
  },
  {
   "cell_type": "markdown",
   "metadata": {},
   "source": [
    "## Функция индексирования:"
   ]
  },
  {
   "cell_type": "code",
   "execution_count": 17,
   "metadata": {},
   "outputs": [],
   "source": [
    "import pandas as pd\n",
    "import numpy as np"
   ]
  },
  {
   "cell_type": "code",
   "execution_count": 18,
   "metadata": {},
   "outputs": [
    {
     "data": {
      "text/plain": [
       "CountVectorizer(analyzer='word', binary=False, decode_error='strict',\n",
       "        dtype=<class 'numpy.int64'>, encoding='utf-8', input='content',\n",
       "        lowercase=True, max_df=1.0, max_features=None, min_df=1,\n",
       "        ngram_range=(1, 1), preprocessor=None, stop_words=None,\n",
       "        strip_accents=None, token_pattern='(?u)\\\\b\\\\w\\\\w+\\\\b',\n",
       "        tokenizer=None, vocabulary=None)"
      ]
     },
     "execution_count": 18,
     "metadata": {},
     "output_type": "execute_result"
    }
   ],
   "source": [
    "from sklearn.feature_extraction.text import TfidfVectorizer, CountVectorizer\n",
    "# tfidf_vectorizer = TfidfVectorizer()\n",
    "count_vectorizer = CountVectorizer()\n",
    "count_vectorizer.fit(preprocessed_texts)"
   ]
  },
  {
   "cell_type": "code",
   "execution_count": 19,
   "metadata": {},
   "outputs": [],
   "source": [
    "def build_inverted_index(texts, docs):\n",
    "    return pd.DataFrame(\n",
    "        count_vectorizer.transform(texts).A, \n",
    "        columns=count_vectorizer.get_feature_names(),\n",
    "        index=docs\n",
    "    ).transpose()"
   ]
  },
  {
   "cell_type": "code",
   "execution_count": 20,
   "metadata": {},
   "outputs": [
    {
     "data": {
      "text/html": [
       "<div>\n",
       "<style scoped>\n",
       "    .dataframe tbody tr th:only-of-type {\n",
       "        vertical-align: middle;\n",
       "    }\n",
       "\n",
       "    .dataframe tbody tr th {\n",
       "        vertical-align: top;\n",
       "    }\n",
       "\n",
       "    .dataframe thead th {\n",
       "        text-align: right;\n",
       "    }\n",
       "</style>\n",
       "<table border=\"1\" class=\"dataframe\">\n",
       "  <thead>\n",
       "    <tr style=\"text-align: right;\">\n",
       "      <th></th>\n",
       "      <th>Friends - 2x08 - The One With The List.ru.txt</th>\n",
       "      <th>Friends - 2x20 - The One Where Old Yeller Dies.NurlanB.ru.txt</th>\n",
       "      <th>Friends - 2x24 - The One With Barry And Mindy's Wedding.ru.txt</th>\n",
       "      <th>Friends - 2x16 - The One Where Joey Moves Out.ru.txt</th>\n",
       "      <th>Friends - 2x07 - The One Where Ross Finds Out.ru.txt</th>\n",
       "      <th>Friends - 2x17 - The One Where Eddie Moves In.ru.txt</th>\n",
       "      <th>Friends - 2x04 - The One With Phoebe's Husband.ru.txt</th>\n",
       "      <th>Friends - 2x15 - The One Where Ross And Rachel...You Know.ru.txt</th>\n",
       "      <th>Friends - 2x01 - The One With Ross's New Girlfriend.DVDRip.ru.txt</th>\n",
       "      <th>Friends - 2x21 - The One With The Bullies.ru.txt</th>\n",
       "      <th>...</th>\n",
       "      <th>Friends - 7x24-25 - The One With Chandler And Monica's Wedding (2).ru.txt</th>\n",
       "      <th>Friends - 7x08 - The One Where Chandler Doesn't Like Dogs.ru.txt</th>\n",
       "      <th>Friends - 7x09 - The One With All The Candy.ru.txt</th>\n",
       "      <th>Friends - 7x17 - The One With The Cheap Wedding Dress.ru.txt</th>\n",
       "      <th>Friends - 7x23 - The One With Chandler And Monica's Wedding (1).ru.txt</th>\n",
       "      <th>Friends - 7x13 - The One Where Rosita Dies.ru.txt</th>\n",
       "      <th>Friends - 7x11 - The One With All The Cheesecakes.ru.txt</th>\n",
       "      <th>Friends - 7x12 - The One Where They're Up All Night.ru.txt</th>\n",
       "      <th>Friends - 7x03 - The One With Phoebe's Cookies.ru.txt</th>\n",
       "      <th>Friends - 7x01 - The One With Monica's Thunder.ru.txt</th>\n",
       "    </tr>\n",
       "  </thead>\n",
       "  <tbody>\n",
       "    <tr>\n",
       "      <th>аа</th>\n",
       "      <td>0</td>\n",
       "      <td>0</td>\n",
       "      <td>0</td>\n",
       "      <td>0</td>\n",
       "      <td>0</td>\n",
       "      <td>0</td>\n",
       "      <td>0</td>\n",
       "      <td>0</td>\n",
       "      <td>0</td>\n",
       "      <td>0</td>\n",
       "      <td>...</td>\n",
       "      <td>0</td>\n",
       "      <td>0</td>\n",
       "      <td>0</td>\n",
       "      <td>0</td>\n",
       "      <td>0</td>\n",
       "      <td>0</td>\n",
       "      <td>0</td>\n",
       "      <td>0</td>\n",
       "      <td>0</td>\n",
       "      <td>0</td>\n",
       "    </tr>\n",
       "    <tr>\n",
       "      <th>ааа</th>\n",
       "      <td>0</td>\n",
       "      <td>0</td>\n",
       "      <td>0</td>\n",
       "      <td>0</td>\n",
       "      <td>0</td>\n",
       "      <td>0</td>\n",
       "      <td>0</td>\n",
       "      <td>0</td>\n",
       "      <td>0</td>\n",
       "      <td>0</td>\n",
       "      <td>...</td>\n",
       "      <td>0</td>\n",
       "      <td>0</td>\n",
       "      <td>0</td>\n",
       "      <td>0</td>\n",
       "      <td>0</td>\n",
       "      <td>0</td>\n",
       "      <td>0</td>\n",
       "      <td>0</td>\n",
       "      <td>0</td>\n",
       "      <td>0</td>\n",
       "    </tr>\n",
       "    <tr>\n",
       "      <th>ааааа</th>\n",
       "      <td>0</td>\n",
       "      <td>0</td>\n",
       "      <td>0</td>\n",
       "      <td>0</td>\n",
       "      <td>0</td>\n",
       "      <td>0</td>\n",
       "      <td>0</td>\n",
       "      <td>0</td>\n",
       "      <td>0</td>\n",
       "      <td>0</td>\n",
       "      <td>...</td>\n",
       "      <td>0</td>\n",
       "      <td>0</td>\n",
       "      <td>0</td>\n",
       "      <td>0</td>\n",
       "      <td>0</td>\n",
       "      <td>0</td>\n",
       "      <td>0</td>\n",
       "      <td>0</td>\n",
       "      <td>0</td>\n",
       "      <td>0</td>\n",
       "    </tr>\n",
       "    <tr>\n",
       "      <th>ааааааа</th>\n",
       "      <td>0</td>\n",
       "      <td>0</td>\n",
       "      <td>0</td>\n",
       "      <td>0</td>\n",
       "      <td>0</td>\n",
       "      <td>0</td>\n",
       "      <td>0</td>\n",
       "      <td>0</td>\n",
       "      <td>0</td>\n",
       "      <td>0</td>\n",
       "      <td>...</td>\n",
       "      <td>0</td>\n",
       "      <td>0</td>\n",
       "      <td>0</td>\n",
       "      <td>0</td>\n",
       "      <td>0</td>\n",
       "      <td>0</td>\n",
       "      <td>0</td>\n",
       "      <td>0</td>\n",
       "      <td>0</td>\n",
       "      <td>0</td>\n",
       "    </tr>\n",
       "    <tr>\n",
       "      <th>аааааау</th>\n",
       "      <td>0</td>\n",
       "      <td>0</td>\n",
       "      <td>0</td>\n",
       "      <td>0</td>\n",
       "      <td>0</td>\n",
       "      <td>0</td>\n",
       "      <td>0</td>\n",
       "      <td>0</td>\n",
       "      <td>0</td>\n",
       "      <td>0</td>\n",
       "      <td>...</td>\n",
       "      <td>0</td>\n",
       "      <td>0</td>\n",
       "      <td>0</td>\n",
       "      <td>0</td>\n",
       "      <td>0</td>\n",
       "      <td>0</td>\n",
       "      <td>0</td>\n",
       "      <td>0</td>\n",
       "      <td>0</td>\n",
       "      <td>0</td>\n",
       "    </tr>\n",
       "  </tbody>\n",
       "</table>\n",
       "<p>5 rows × 165 columns</p>\n",
       "</div>"
      ],
      "text/plain": [
       "         Friends - 2x08 - The One With The List.ru.txt  \\\n",
       "аа                                                   0   \n",
       "ааа                                                  0   \n",
       "ааааа                                                0   \n",
       "ааааааа                                              0   \n",
       "аааааау                                              0   \n",
       "\n",
       "         Friends - 2x20 - The One Where Old Yeller Dies.NurlanB.ru.txt  \\\n",
       "аа                                                       0               \n",
       "ааа                                                      0               \n",
       "ааааа                                                    0               \n",
       "ааааааа                                                  0               \n",
       "аааааау                                                  0               \n",
       "\n",
       "         Friends - 2x24 - The One With Barry And Mindy's Wedding.ru.txt  \\\n",
       "аа                                                       0                \n",
       "ааа                                                      0                \n",
       "ааааа                                                    0                \n",
       "ааааааа                                                  0                \n",
       "аааааау                                                  0                \n",
       "\n",
       "         Friends - 2x16 - The One Where Joey Moves Out.ru.txt  \\\n",
       "аа                                                       0      \n",
       "ааа                                                      0      \n",
       "ааааа                                                    0      \n",
       "ааааааа                                                  0      \n",
       "аааааау                                                  0      \n",
       "\n",
       "         Friends - 2x07 - The One Where Ross Finds Out.ru.txt  \\\n",
       "аа                                                       0      \n",
       "ааа                                                      0      \n",
       "ааааа                                                    0      \n",
       "ааааааа                                                  0      \n",
       "аааааау                                                  0      \n",
       "\n",
       "         Friends - 2x17 - The One Where Eddie Moves In.ru.txt  \\\n",
       "аа                                                       0      \n",
       "ааа                                                      0      \n",
       "ааааа                                                    0      \n",
       "ааааааа                                                  0      \n",
       "аааааау                                                  0      \n",
       "\n",
       "         Friends - 2x04 - The One With Phoebe's Husband.ru.txt  \\\n",
       "аа                                                       0       \n",
       "ааа                                                      0       \n",
       "ааааа                                                    0       \n",
       "ааааааа                                                  0       \n",
       "аааааау                                                  0       \n",
       "\n",
       "         Friends - 2x15 - The One Where Ross And Rachel...You Know.ru.txt  \\\n",
       "аа                                                       0                  \n",
       "ааа                                                      0                  \n",
       "ааааа                                                    0                  \n",
       "ааааааа                                                  0                  \n",
       "аааааау                                                  0                  \n",
       "\n",
       "         Friends - 2x01 - The One With Ross's New Girlfriend.DVDRip.ru.txt  \\\n",
       "аа                                                       0                   \n",
       "ааа                                                      0                   \n",
       "ааааа                                                    0                   \n",
       "ааааааа                                                  0                   \n",
       "аааааау                                                  0                   \n",
       "\n",
       "         Friends - 2x21 - The One With The Bullies.ru.txt  \\\n",
       "аа                                                      0   \n",
       "ааа                                                     0   \n",
       "ааааа                                                   0   \n",
       "ааааааа                                                 0   \n",
       "аааааау                                                 0   \n",
       "\n",
       "                                 ...                            \\\n",
       "аа                               ...                             \n",
       "ааа                              ...                             \n",
       "ааааа                            ...                             \n",
       "ааааааа                          ...                             \n",
       "аааааау                          ...                             \n",
       "\n",
       "         Friends - 7x24-25 - The One With Chandler And Monica's Wedding (2).ru.txt  \\\n",
       "аа                                                       0                           \n",
       "ааа                                                      0                           \n",
       "ааааа                                                    0                           \n",
       "ааааааа                                                  0                           \n",
       "аааааау                                                  0                           \n",
       "\n",
       "         Friends - 7x08 - The One Where Chandler Doesn't Like Dogs.ru.txt  \\\n",
       "аа                                                       0                  \n",
       "ааа                                                      0                  \n",
       "ааааа                                                    0                  \n",
       "ааааааа                                                  0                  \n",
       "аааааау                                                  0                  \n",
       "\n",
       "         Friends - 7x09 - The One With All The Candy.ru.txt  \\\n",
       "аа                                                       0    \n",
       "ааа                                                      0    \n",
       "ааааа                                                    0    \n",
       "ааааааа                                                  0    \n",
       "аааааау                                                  0    \n",
       "\n",
       "         Friends - 7x17 - The One With The Cheap Wedding Dress.ru.txt  \\\n",
       "аа                                                       0              \n",
       "ааа                                                      0              \n",
       "ааааа                                                    0              \n",
       "ааааааа                                                  0              \n",
       "аааааау                                                  0              \n",
       "\n",
       "         Friends - 7x23 - The One With Chandler And Monica's Wedding (1).ru.txt  \\\n",
       "аа                                                       0                        \n",
       "ааа                                                      0                        \n",
       "ааааа                                                    0                        \n",
       "ааааааа                                                  0                        \n",
       "аааааау                                                  0                        \n",
       "\n",
       "         Friends - 7x13 - The One Where Rosita Dies.ru.txt  \\\n",
       "аа                                                       0   \n",
       "ааа                                                      0   \n",
       "ааааа                                                    0   \n",
       "ааааааа                                                  0   \n",
       "аааааау                                                  0   \n",
       "\n",
       "         Friends - 7x11 - The One With All The Cheesecakes.ru.txt  \\\n",
       "аа                                                       0          \n",
       "ааа                                                      0          \n",
       "ааааа                                                    0          \n",
       "ааааааа                                                  0          \n",
       "аааааау                                                  0          \n",
       "\n",
       "         Friends - 7x12 - The One Where They're Up All Night.ru.txt  \\\n",
       "аа                                                       0            \n",
       "ааа                                                      0            \n",
       "ааааа                                                    0            \n",
       "ааааааа                                                  0            \n",
       "аааааау                                                  0            \n",
       "\n",
       "         Friends - 7x03 - The One With Phoebe's Cookies.ru.txt  \\\n",
       "аа                                                       0       \n",
       "ааа                                                      0       \n",
       "ааааа                                                    0       \n",
       "ааааааа                                                  0       \n",
       "аааааау                                                  0       \n",
       "\n",
       "         Friends - 7x01 - The One With Monica's Thunder.ru.txt  \n",
       "аа                                                       0      \n",
       "ааа                                                      0      \n",
       "ааааа                                                    0      \n",
       "ааааааа                                                  0      \n",
       "аааааау                                                  0      \n",
       "\n",
       "[5 rows x 165 columns]"
      ]
     },
     "execution_count": 20,
     "metadata": {},
     "output_type": "execute_result"
    }
   ],
   "source": [
    "inverted_index_df = build_inverted_index(preprocessed_texts, documents)\n",
    "inverted_index_df.head()"
   ]
  },
  {
   "cell_type": "markdown",
   "metadata": {},
   "source": [
    "## Функция поиска:"
   ]
  },
  {
   "cell_type": "code",
   "execution_count": 21,
   "metadata": {},
   "outputs": [],
   "source": [
    "def search(query, vectorizer, limit=10):\n",
    "    search_matrix = vectorizer.transform([query] + preprocessed_texts)\n",
    "    scores = np.argsort((search_matrix[0, :] * search_matrix[1:, :].T).A[0])\n",
    "\n",
    "    return [documents[score] for score in scores[::-1]][:limit]"
   ]
  },
  {
   "cell_type": "code",
   "execution_count": 22,
   "metadata": {},
   "outputs": [
    {
     "data": {
      "text/plain": [
       "['Friends - 6x11 - The One With The Apothecary Table.ru.txt',\n",
       " 'Friends - 7x10 - The One With The Holiday Armadillo.ru.txt',\n",
       " 'Friends - 6x07 - The One Where Phoebe Runs.ru.txt',\n",
       " 'Friends - 6x24 - The One With The Proposal (1).ru.txt',\n",
       " 'Friends - 1x06 - The One With The Butt.ru.txt',\n",
       " 'Friends - 2x17 - The One Where Eddie Moves In.ru.txt',\n",
       " 'Friends - 1x10 - The One With The Monkey.ru.txt',\n",
       " \"Friends - 5x19 - The One Where Ross Can't Flirt.ru.txt\",\n",
       " 'Friends - 1x09 - The One Where Underdog Gets Away.ru.txt',\n",
       " 'Friends - 7x17 - The One With The Cheap Wedding Dress.ru.txt']"
      ]
     },
     "execution_count": 22,
     "metadata": {},
     "output_type": "execute_result"
    }
   ],
   "source": [
    "search('кофейный столик', count_vectorizer)"
   ]
  },
  {
   "cell_type": "markdown",
   "metadata": {},
   "source": [
    "## Считаем метрики с помощью обратного индекса:"
   ]
  },
  {
   "cell_type": "markdown",
   "metadata": {},
   "source": [
    "#### a) какие слова являются самыми частотными?"
   ]
  },
  {
   "cell_type": "code",
   "execution_count": 23,
   "metadata": {},
   "outputs": [
    {
     "data": {
      "text/plain": [
       "это        82\n",
       "знать      49\n",
       "мочь       43\n",
       "росс       40\n",
       "кольцо     40\n",
       "кошка      33\n",
       "вонючий    31\n",
       "шутка      30\n",
       "парень     30\n",
       "сказать    30\n",
       "dtype: int64"
      ]
     },
     "execution_count": 23,
     "metadata": {},
     "output_type": "execute_result"
    }
   ],
   "source": [
    "def get_most_frequent_words(df, limit=10):\n",
    "    return df.max(axis=1).sort_values()[::-1][:limit]\n",
    "\n",
    "get_most_frequent_words(inverted_index_df)"
   ]
  },
  {
   "cell_type": "markdown",
   "metadata": {},
   "source": [
    "#### б) какие слова являются самыми редкими?"
   ]
  },
  {
   "cell_type": "code",
   "execution_count": 24,
   "metadata": {},
   "outputs": [
    {
     "data": {
      "text/plain": [
       "олд              1\n",
       "подшучиватель    1\n",
       "подъезд          1\n",
       "подъезжать       1\n",
       "подъемник        1\n",
       "подыгрывать      1\n",
       "подымиться       1\n",
       "подыскивать      1\n",
       "подыхать         1\n",
       "подял            1\n",
       "dtype: int64"
      ]
     },
     "execution_count": 24,
     "metadata": {},
     "output_type": "execute_result"
    }
   ],
   "source": [
    "def get_least_frequent_words(df, limit=10):\n",
    "    return df.max(axis=1).sort_values()[:limit]\n",
    "\n",
    "get_least_frequent_words(inverted_index_df)"
   ]
  },
  {
   "cell_type": "markdown",
   "metadata": {},
   "source": [
    "#### с) какой набор слов есть во всех документах коллекции?"
   ]
  },
  {
   "cell_type": "code",
   "execution_count": 25,
   "metadata": {},
   "outputs": [
    {
     "data": {
      "text/plain": [
       "это        16\n",
       "хотеть      4\n",
       "знать       4\n",
       "сказать     1\n",
       "просто      1\n",
       "думать      1\n",
       "dtype: int64"
      ]
     },
     "execution_count": 25,
     "metadata": {},
     "output_type": "execute_result"
    }
   ],
   "source": [
    "def get_common_words(df):\n",
    "    return df[df.min(axis=1) != 0].min(axis=1).sort_values()[::-1]\n",
    "\n",
    "get_common_words(inverted_index_df)"
   ]
  },
  {
   "cell_type": "markdown",
   "metadata": {},
   "source": [
    "#### д) какой сезон был самым популярным у Чендлера? у Моники?"
   ]
  },
  {
   "cell_type": "code",
   "execution_count": 26,
   "metadata": {},
   "outputs": [
    {
     "name": "stdout",
     "output_type": "stream",
     "text": [
      "чендлер:  Friends - 6x25-26 - The One With The Proposal (2).ru.txt\n",
      "моника:  Friends - 7x06 - The One With The Nap Partners.ru.txt\n"
     ]
    }
   ],
   "source": [
    "def get_most_frequent_season(df, query):\n",
    "    return df.idxmax(axis=1)[query]\n",
    "\n",
    "print('чендлер: ', get_most_frequent_season(inverted_index_df, 'чендлер'))\n",
    "print('моника: ', get_most_frequent_season(inverted_index_df, 'моника'))"
   ]
  },
  {
   "cell_type": "markdown",
   "metadata": {},
   "source": [
    "#### е) кто из главных героев статистически самый популярный?"
   ]
  },
  {
   "cell_type": "code",
   "execution_count": 27,
   "metadata": {},
   "outputs": [
    {
     "name": "stdout",
     "output_type": "stream",
     "text": [
      "[{'word': 'росс', 'freq': 40}, {'word': 'моника', 'freq': 20}, {'word': 'фиби', 'freq': 19}, {'word': 'чендлер', 'freq': 17}, {'word': 'рэйчел', 'freq': 16}, {'word': 'джо', 'freq': 16}]\n",
      "\n",
      "Самый популярный:  росс\n"
     ]
    }
   ],
   "source": [
    "def get_most_popular(df, query):\n",
    "    freq_list = []\n",
    "    \n",
    "    for word in query:\n",
    "        freq_list.append({\"word\": word, \"freq\": df.max(axis=1)[word]})\n",
    "\n",
    "    return sorted(freq_list, key=lambda x: x['freq'], reverse=True)\n",
    "\n",
    "most_popular = get_most_popular(inverted_index_df, ['росс', 'рэйчел', 'моника', 'фиби', 'джо', 'чендлер'])\n",
    "\n",
    "print(most_popular)\n",
    "print()\n",
    "print('Самый популярный: ', most_popular[0]['word'])"
   ]
  },
  {
   "cell_type": "code",
   "execution_count": null,
   "metadata": {},
   "outputs": [],
   "source": []
  }
 ],
 "metadata": {
  "kernelspec": {
   "display_name": "Python 3",
   "language": "python",
   "name": "python3"
  },
  "language_info": {
   "codemirror_mode": {
    "name": "ipython",
    "version": 3
   },
   "file_extension": ".py",
   "mimetype": "text/x-python",
   "name": "python",
   "nbconvert_exporter": "python",
   "pygments_lexer": "ipython3",
   "version": "3.7.0"
  }
 },
 "nbformat": 4,
 "nbformat_minor": 2
}
